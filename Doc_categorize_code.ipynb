{
 "cells": [
  {
   "cell_type": "code",
   "execution_count": 2,
   "metadata": {
    "collapsed": true
   },
   "outputs": [
    {
     "name": "stderr",
     "output_type": "stream",
     "text": [
      "[nltk_data] Downloading package stopwords to /Users/MYW/nltk_data...\n",
      "[nltk_data]   Package stopwords is already up-to-date!\n"
     ]
    }
   ],
   "source": [
    "import csv\n",
    "import os\n",
    "import pandas as pd\n",
    "import numpy as np\n",
    "import nltk\n",
    "import matplotlib.pyplot as plt\n",
    "import seaborn as sns\n",
    "\n",
    "from pdfminer.high_level import extract_text\n",
    "\n",
    "from nltk.corpus import PlaintextCorpusReader\n",
    "from nltk.corpus import stopwords\n",
    "nltk.download(\"stopwords\")\n",
    "import gensim\n",
    "from gensim.parsing.preprocessing import remove_stopwords\n",
    "from gensim.parsing.porter import PorterStemmer \n",
    "\n",
    "from sklearn.feature_extraction.text import TfidfVectorizer\n",
    "from sklearn.feature_selection import chi2\n",
    "from IPython.display import display\n",
    "from sklearn.model_selection import train_test_split\n",
    "from sklearn.feature_extraction.text import TfidfTransformer\n",
    "from sklearn.feature_extraction.text import CountVectorizer\n",
    "from sklearn.naive_bayes import MultinomialNB\n",
    "from sklearn.linear_model import LogisticRegression\n",
    "from sklearn.ensemble import RandomForestClassifier\n",
    "from sklearn.svm import LinearSVC\n",
    "from sklearn.model_selection import cross_val_score\n",
    "from sklearn.metrics import confusion_matrix\n",
    "from sklearn import metrics\n",
    "from sklearn.metrics import accuracy_score"
   ]
  },
  {
   "cell_type": "markdown",
   "metadata": {},
   "source": [
    "# 1. Import all files"
   ]
  },
  {
   "cell_type": "code",
   "execution_count": 2,
   "metadata": {},
   "outputs": [],
   "source": [
    "# import all files functions\n",
    "\n",
    "def all_file(file_dir):\n",
    "    df_file = pd.DataFrame(columns = ['label','name','dir'],dtype=np.object)\n",
    "    \n",
    "    for i in os.listdir(file_dir):\n",
    "        if i != '.DS_Store':\n",
    "            file_dir_name = file_dir+'/'+i\n",
    "            l_name = os.listdir(file_dir_name)\n",
    "        \n",
    "            data_list = []\n",
    "            for j in l_name:\n",
    "                if j != '.DS_Store':\n",
    "                    data_list.append([i,j,file_dir+'/'+i+'/'+j])\n",
    "        \n",
    "            df = pd.DataFrame(data = data_list,columns = ['label','name','dir'])\n",
    "            df_file = pd.concat([df_file,df],axis = 0,ignore_index = True)\n",
    "            \n",
    "    return df_file\n"
   ]
  },
  {
   "cell_type": "markdown",
   "metadata": {},
   "source": [
    "## 1.1 Import all files"
   ]
  },
  {
   "cell_type": "code",
   "execution_count": 3,
   "metadata": {
    "collapsed": true
   },
   "outputs": [
    {
     "name": "stderr",
     "output_type": "stream",
     "text": [
      "/opt/anaconda3/lib/python3.7/site-packages/ipykernel_launcher.py:4: DeprecationWarning: `np.object` is a deprecated alias for the builtin `object`. To silence this warning, use `object` by itself. Doing this will not modify any behavior and is safe. \n",
      "Deprecated in NumPy 1.20; for more details and guidance: https://numpy.org/devdocs/release/1.20.0-notes.html#deprecations\n",
      "  after removing the cwd from sys.path.\n"
     ]
    },
    {
     "data": {
      "text/html": [
       "<div>\n",
       "<style scoped>\n",
       "    .dataframe tbody tr th:only-of-type {\n",
       "        vertical-align: middle;\n",
       "    }\n",
       "\n",
       "    .dataframe tbody tr th {\n",
       "        vertical-align: top;\n",
       "    }\n",
       "\n",
       "    .dataframe thead th {\n",
       "        text-align: right;\n",
       "    }\n",
       "</style>\n",
       "<table border=\"1\" class=\"dataframe\">\n",
       "  <thead>\n",
       "    <tr style=\"text-align: right;\">\n",
       "      <th></th>\n",
       "      <th>label</th>\n",
       "      <th>name</th>\n",
       "      <th>dir</th>\n",
       "    </tr>\n",
       "  </thead>\n",
       "  <tbody>\n",
       "    <tr>\n",
       "      <th>0</th>\n",
       "      <td>Payslips</td>\n",
       "      <td>Fair_Work_Pay_Slip_Template_(p).pdf</td>\n",
       "      <td>/Users/MYW/Desktop/Assignment/Doc/Payslips/Fai...</td>\n",
       "    </tr>\n",
       "    <tr>\n",
       "      <th>1</th>\n",
       "      <td>Payslips</td>\n",
       "      <td>Recap Paie WIREMIND 2018.pdf</td>\n",
       "      <td>/Users/MYW/Desktop/Assignment/Doc/Payslips/Rec...</td>\n",
       "    </tr>\n",
       "    <tr>\n",
       "      <th>2</th>\n",
       "      <td>Payslips</td>\n",
       "      <td>415450721-Payslip-Template.pdf</td>\n",
       "      <td>/Users/MYW/Desktop/Assignment/Doc/Payslips/415...</td>\n",
       "    </tr>\n",
       "    <tr>\n",
       "      <th>3</th>\n",
       "      <td>Payslips</td>\n",
       "      <td>Etat charges salariés BLINKSIGHT 2018.pdf</td>\n",
       "      <td>/Users/MYW/Desktop/Assignment/Doc/Payslips/Eta...</td>\n",
       "    </tr>\n",
       "    <tr>\n",
       "      <th>4</th>\n",
       "      <td>Payslips</td>\n",
       "      <td>Salary Slip.pdf</td>\n",
       "      <td>/Users/MYW/Desktop/Assignment/Doc/Payslips/Sal...</td>\n",
       "    </tr>\n",
       "    <tr>\n",
       "      <th>...</th>\n",
       "      <td>...</td>\n",
       "      <td>...</td>\n",
       "      <td>...</td>\n",
       "    </tr>\n",
       "    <tr>\n",
       "      <th>2407</th>\n",
       "      <td>NDA</td>\n",
       "      <td>e29c3877a103aaefcf77ebb110f981a5.pdf</td>\n",
       "      <td>/Users/MYW/Desktop/Assignment/Doc/NDA/e29c3877...</td>\n",
       "    </tr>\n",
       "    <tr>\n",
       "      <th>2408</th>\n",
       "      <td>NDA</td>\n",
       "      <td>9f7a97fa1d4912d6312d0a03277c24a8.pdf</td>\n",
       "      <td>/Users/MYW/Desktop/Assignment/Doc/NDA/9f7a97fa...</td>\n",
       "    </tr>\n",
       "    <tr>\n",
       "      <th>2409</th>\n",
       "      <td>NDA</td>\n",
       "      <td>2f3749e14385bf1eba71c61fdbc6f29f.pdf</td>\n",
       "      <td>/Users/MYW/Desktop/Assignment/Doc/NDA/2f3749e1...</td>\n",
       "    </tr>\n",
       "    <tr>\n",
       "      <th>2410</th>\n",
       "      <td>NDA</td>\n",
       "      <td>b5da72ae56119942c9c52c49d35d1bda.pdf</td>\n",
       "      <td>/Users/MYW/Desktop/Assignment/Doc/NDA/b5da72ae...</td>\n",
       "    </tr>\n",
       "    <tr>\n",
       "      <th>2411</th>\n",
       "      <td>NDA</td>\n",
       "      <td>b5fa4161f1f646f324d1d95c4562990c.pdf</td>\n",
       "      <td>/Users/MYW/Desktop/Assignment/Doc/NDA/b5fa4161...</td>\n",
       "    </tr>\n",
       "  </tbody>\n",
       "</table>\n",
       "<p>2412 rows × 3 columns</p>\n",
       "</div>"
      ],
      "text/plain": [
       "         label                                        name  \\\n",
       "0     Payslips         Fair_Work_Pay_Slip_Template_(p).pdf   \n",
       "1     Payslips                Recap Paie WIREMIND 2018.pdf   \n",
       "2     Payslips              415450721-Payslip-Template.pdf   \n",
       "3     Payslips  Etat charges salariés BLINKSIGHT 2018.pdf   \n",
       "4     Payslips                             Salary Slip.pdf   \n",
       "...        ...                                         ...   \n",
       "2407       NDA        e29c3877a103aaefcf77ebb110f981a5.pdf   \n",
       "2408       NDA        9f7a97fa1d4912d6312d0a03277c24a8.pdf   \n",
       "2409       NDA        2f3749e14385bf1eba71c61fdbc6f29f.pdf   \n",
       "2410       NDA        b5da72ae56119942c9c52c49d35d1bda.pdf   \n",
       "2411       NDA        b5fa4161f1f646f324d1d95c4562990c.pdf   \n",
       "\n",
       "                                                    dir  \n",
       "0     /Users/MYW/Desktop/Assignment/Doc/Payslips/Fai...  \n",
       "1     /Users/MYW/Desktop/Assignment/Doc/Payslips/Rec...  \n",
       "2     /Users/MYW/Desktop/Assignment/Doc/Payslips/415...  \n",
       "3     /Users/MYW/Desktop/Assignment/Doc/Payslips/Eta...  \n",
       "4     /Users/MYW/Desktop/Assignment/Doc/Payslips/Sal...  \n",
       "...                                                 ...  \n",
       "2407  /Users/MYW/Desktop/Assignment/Doc/NDA/e29c3877...  \n",
       "2408  /Users/MYW/Desktop/Assignment/Doc/NDA/9f7a97fa...  \n",
       "2409  /Users/MYW/Desktop/Assignment/Doc/NDA/2f3749e1...  \n",
       "2410  /Users/MYW/Desktop/Assignment/Doc/NDA/b5da72ae...  \n",
       "2411  /Users/MYW/Desktop/Assignment/Doc/NDA/b5fa4161...  \n",
       "\n",
       "[2412 rows x 3 columns]"
      ]
     },
     "execution_count": 3,
     "metadata": {},
     "output_type": "execute_result"
    }
   ],
   "source": [
    "files = all_file('/Users/MYW/Desktop/Assignment/Doc')\n",
    "files"
   ]
  },
  {
   "cell_type": "markdown",
   "metadata": {},
   "source": [
    "# 2. Text_preprocessing"
   ]
  },
  {
   "cell_type": "code",
   "execution_count": 4,
   "metadata": {},
   "outputs": [],
   "source": [
    "def proprecess_text(text_dir):\n",
    "    \n",
    "    try:\n",
    "        text_data = extract_text(text_dir)\n",
    "        text_data = text_data.lower()# change into lowercase\n",
    "    \n",
    "        text_data  =str(np.char.replace(text_data, \"’\", \"\")) # replace\"'\" with \"\n",
    "        text_data  =str(np.char.replace(text_data, \"'\", \"\"))\n",
    "\n",
    "        text_data = list(gensim.utils.tokenize(text_data)) #Cast this into a list\n",
    "\n",
    "        stop_list = gensim.parsing.preprocessing.STOPWORDS   # load stopword and remove stopword\n",
    "        text_stopremoved = [w for w in text_data if w not in stop_list] \n",
    "\n",
    "        from gensim.parsing.porter import PorterStemmer  # stemming\n",
    "        stemmer = PorterStemmer()\n",
    "        text_stemmed = [stemmer.stem(w) for w in text_stopremoved]\n",
    "\n",
    "        text_data = [w for w in text_stemmed if len(w)>1] # remove single character\n",
    "    \n",
    "        return text_data\n",
    "    \n",
    "    except:\n",
    "        return 'No text extract'"
   ]
  },
  {
   "cell_type": "markdown",
   "metadata": {},
   "source": [
    "## 2.1 text_preprocessing apply to files"
   ]
  },
  {
   "cell_type": "code",
   "execution_count": 5,
   "metadata": {
    "collapsed": true
   },
   "outputs": [
    {
     "name": "stderr",
     "output_type": "stream",
     "text": [
      "/opt/anaconda3/lib/python3.7/site-packages/pdfminer/pdfpage.py:159: PDFTextExtractionNotAllowedWarning: The PDF <_io.BufferedReader name='/Users/MYW/Desktop/Assignment/Doc/RandomPDFs/Paper - How to write Shared Libraries.pdf'> contains a metadata field indicating that it should not allow text extraction. Ignoring this field and proceeding.\n",
      "  warnings.warn(warning_msg, PDFTextExtractionNotAllowedWarning)\n",
      "/opt/anaconda3/lib/python3.7/site-packages/pdfminer/pdfpage.py:159: PDFTextExtractionNotAllowedWarning: The PDF <_io.BufferedReader name='/Users/MYW/Desktop/Assignment/Doc/RandomPDFs/Extra 300 - Pilot_s Operating Handbook (20th Sept, 2009).pdf'> contains a metadata field indicating that it should not allow text extraction. Ignoring this field and proceeding.\n",
      "  warnings.warn(warning_msg, PDFTextExtractionNotAllowedWarning)\n",
      "/opt/anaconda3/lib/python3.7/site-packages/pdfminer/pdfpage.py:159: PDFTextExtractionNotAllowedWarning: The PDF <_io.BufferedReader name='/Users/MYW/Desktop/Assignment/Doc/RandomPDFs/Futexes Are Tricky - Ulrich Drepper (2011).pdf'> contains a metadata field indicating that it should not allow text extraction. Ignoring this field and proceeding.\n",
      "  warnings.warn(warning_msg, PDFTextExtractionNotAllowedWarning)\n",
      "/opt/anaconda3/lib/python3.7/site-packages/pdfminer/pdfpage.py:159: PDFTextExtractionNotAllowedWarning: The PDF <_io.BufferedReader name='/Users/MYW/Desktop/Assignment/Doc/RandomPDFs/Attacking the Windows Kernel - 2007.pdf'> contains a metadata field indicating that it should not allow text extraction. Ignoring this field and proceeding.\n",
      "  warnings.warn(warning_msg, PDFTextExtractionNotAllowedWarning)\n",
      "/opt/anaconda3/lib/python3.7/site-packages/pdfminer/pdfpage.py:159: PDFTextExtractionNotAllowedWarning: The PDF <_io.BufferedReader name='/Users/MYW/Desktop/Assignment/Doc/RandomPDFs/How To Write Shared Libraries - v4.1.2 (Drepper, 2001).pdf'> contains a metadata field indicating that it should not allow text extraction. Ignoring this field and proceeding.\n",
      "  warnings.warn(warning_msg, PDFTextExtractionNotAllowedWarning)\n",
      "/opt/anaconda3/lib/python3.7/site-packages/pdfminer/pdfpage.py:159: PDFTextExtractionNotAllowedWarning: The PDF <_io.BufferedReader name='/Users/MYW/Desktop/Assignment/Doc/RandomPDFs/NVDIMM-N Cookbook - A Soup-to-Nuts Primer on Using NVDIMM-Ns to Improve Your Storage Performance - 2015 (Chang-Sainio_NVDIMM_Cookbook).pdf'> contains a metadata field indicating that it should not allow text extraction. Ignoring this field and proceeding.\n",
      "  warnings.warn(warning_msg, PDFTextExtractionNotAllowedWarning)\n",
      "/opt/anaconda3/lib/python3.7/site-packages/pdfminer/pdfpage.py:159: PDFTextExtractionNotAllowedWarning: The PDF <_io.BufferedReader name='/Users/MYW/Desktop/Assignment/Doc/RandomPDFs/PyEmu - A Multi-purpose Scriptable IA-32 Emulator (bh-usa-07-pierce-WP).pdf'> contains a metadata field indicating that it should not allow text extraction. Ignoring this field and proceeding.\n",
      "  warnings.warn(warning_msg, PDFTextExtractionNotAllowedWarning)\n",
      "/opt/anaconda3/lib/python3.7/site-packages/pdfminer/pdfpage.py:159: PDFTextExtractionNotAllowedWarning: The PDF <_io.BufferedReader name='/Users/MYW/Desktop/Assignment/Doc/RandomPDFs/Sega Saturn (ST-238-R1-051795).pdf'> contains a metadata field indicating that it should not allow text extraction. Ignoring this field and proceeding.\n",
      "  warnings.warn(warning_msg, PDFTextExtractionNotAllowedWarning)\n",
      "/opt/anaconda3/lib/python3.7/site-packages/pdfminer/pdfpage.py:159: PDFTextExtractionNotAllowedWarning: The PDF <_io.BufferedReader name='/Users/MYW/Desktop/Assignment/Doc/RandomPDFs/Persistent Memory in Windows - 2017 (Tom_Talpey_Persistent_Memory_in_Windows_Server_2016).pdf'> contains a metadata field indicating that it should not allow text extraction. Ignoring this field and proceeding.\n",
      "  warnings.warn(warning_msg, PDFTextExtractionNotAllowedWarning)\n",
      "/opt/anaconda3/lib/python3.7/site-packages/pdfminer/pdfpage.py:159: PDFTextExtractionNotAllowedWarning: The PDF <_io.BufferedReader name='/Users/MYW/Desktop/Assignment/Doc/RandomPDFs/Open Source Kernel Enhancements for Low-Latency Sockets using Busy Poll - Intel (Whitepaper).pdf'> contains a metadata field indicating that it should not allow text extraction. Ignoring this field and proceeding.\n",
      "  warnings.warn(warning_msg, PDFTextExtractionNotAllowedWarning)\n",
      "/opt/anaconda3/lib/python3.7/site-packages/pdfminer/pdfpage.py:159: PDFTextExtractionNotAllowedWarning: The PDF <_io.BufferedReader name='/Users/MYW/Desktop/Assignment/Doc/RandomPDFs/NVML - Implementing Persistent Memory Applications - 2015.pdf'> contains a metadata field indicating that it should not allow text extraction. Ignoring this field and proceeding.\n",
      "  warnings.warn(warning_msg, PDFTextExtractionNotAllowedWarning)\n",
      "/opt/anaconda3/lib/python3.7/site-packages/pdfminer/pdfpage.py:159: PDFTextExtractionNotAllowedWarning: The PDF <_io.BufferedReader name='/Users/MYW/Desktop/Assignment/Doc/RandomPDFs/The Need for Asynchronous, Zero-Copy Network IO - Drepper (Slides).pdf'> contains a metadata field indicating that it should not allow text extraction. Ignoring this field and proceeding.\n",
      "  warnings.warn(warning_msg, PDFTextExtractionNotAllowedWarning)\n",
      "/opt/anaconda3/lib/python3.7/site-packages/pdfminer/pdfpage.py:159: PDFTextExtractionNotAllowedWarning: The PDF <_io.BufferedReader name='/Users/MYW/Desktop/Assignment/Doc/RandomPDFs/ELF Handling for Thread-Local Storage - Ulrich Drepper (2005).pdf'> contains a metadata field indicating that it should not allow text extraction. Ignoring this field and proceeding.\n",
      "  warnings.warn(warning_msg, PDFTextExtractionNotAllowedWarning)\n",
      "/opt/anaconda3/lib/python3.7/site-packages/pdfminer/pdfpage.py:159: PDFTextExtractionNotAllowedWarning: The PDF <_io.BufferedReader name='/Users/MYW/Desktop/Assignment/Doc/RandomPDFs/Blackout - What Really Happened - Slides (2007).pdf'> contains a metadata field indicating that it should not allow text extraction. Ignoring this field and proceeding.\n",
      "  warnings.warn(warning_msg, PDFTextExtractionNotAllowedWarning)\n",
      "/opt/anaconda3/lib/python3.7/site-packages/pdfminer/pdfpage.py:159: PDFTextExtractionNotAllowedWarning: The PDF <_io.BufferedReader name='/Users/MYW/Desktop/Assignment/Doc/RandomPDFs/Paper - The Need for Asynchronous, Zero-Copy Network IO.pdf'> contains a metadata field indicating that it should not allow text extraction. Ignoring this field and proceeding.\n",
      "  warnings.warn(warning_msg, PDFTextExtractionNotAllowedWarning)\n",
      "/opt/anaconda3/lib/python3.7/site-packages/pdfminer/pdfpage.py:159: PDFTextExtractionNotAllowedWarning: The PDF <_io.BufferedReader name='/Users/MYW/Desktop/Assignment/Doc/Addendums/replacing-coe-due-to-incorrect-information---user-guide.pdf'> contains a metadata field indicating that it should not allow text extraction. Ignoring this field and proceeding.\n",
      "  warnings.warn(warning_msg, PDFTextExtractionNotAllowedWarning)\n",
      "/opt/anaconda3/lib/python3.7/site-packages/pdfminer/pdfpage.py:159: PDFTextExtractionNotAllowedWarning: The PDF <_io.BufferedReader name='/Users/MYW/Desktop/Assignment/Doc/Addendums/9117-15-7174 Addendum 4.pdf'> contains a metadata field indicating that it should not allow text extraction. Ignoring this field and proceeding.\n",
      "  warnings.warn(warning_msg, PDFTextExtractionNotAllowedWarning)\n"
     ]
    }
   ],
   "source": [
    "files['text'] = files['dir'].apply(proprecess_text)"
   ]
  },
  {
   "cell_type": "code",
   "execution_count": 8,
   "metadata": {
    "collapsed": true
   },
   "outputs": [
    {
     "data": {
      "text/html": [
       "<div>\n",
       "<style scoped>\n",
       "    .dataframe tbody tr th:only-of-type {\n",
       "        vertical-align: middle;\n",
       "    }\n",
       "\n",
       "    .dataframe tbody tr th {\n",
       "        vertical-align: top;\n",
       "    }\n",
       "\n",
       "    .dataframe thead th {\n",
       "        text-align: right;\n",
       "    }\n",
       "</style>\n",
       "<table border=\"1\" class=\"dataframe\">\n",
       "  <thead>\n",
       "    <tr style=\"text-align: right;\">\n",
       "      <th></th>\n",
       "      <th>label</th>\n",
       "      <th>name</th>\n",
       "      <th>dir</th>\n",
       "      <th>text</th>\n",
       "    </tr>\n",
       "  </thead>\n",
       "  <tbody>\n",
       "    <tr>\n",
       "      <th>0</th>\n",
       "      <td>Payslips</td>\n",
       "      <td>Fair_Work_Pay_Slip_Template_(p).pdf</td>\n",
       "      <td>/Users/MYW/Desktop/Assignment/Doc/Payslips/Fai...</td>\n",
       "      <td>[pai, slip, date, payment, pai, period, employ...</td>\n",
       "    </tr>\n",
       "    <tr>\n",
       "      <th>1</th>\n",
       "      <td>Payslips</td>\n",
       "      <td>Recap Paie WIREMIND 2018.pdf</td>\n",
       "      <td>/Users/MYW/Desktop/Assignment/Doc/Payslips/Rec...</td>\n",
       "      <td>[wiremind, rue, reuilli, pari, wiremind, recap...</td>\n",
       "    </tr>\n",
       "    <tr>\n",
       "      <th>2</th>\n",
       "      <td>Payslips</td>\n",
       "      <td>415450721-Payslip-Template.pdf</td>\n",
       "      <td>/Users/MYW/Desktop/Assignment/Doc/Payslips/415...</td>\n",
       "      <td>[perilwis, insur, broke, pvt, salari, payslip,...</td>\n",
       "    </tr>\n",
       "    <tr>\n",
       "      <th>3</th>\n",
       "      <td>Payslips</td>\n",
       "      <td>Etat charges salariés BLINKSIGHT 2018.pdf</td>\n",
       "      <td>/Users/MYW/Desktop/Assignment/Doc/Payslips/Eta...</td>\n",
       "      <td>[]</td>\n",
       "    </tr>\n",
       "    <tr>\n",
       "      <th>4</th>\n",
       "      <td>Payslips</td>\n",
       "      <td>Salary Slip.pdf</td>\n",
       "      <td>/Users/MYW/Desktop/Assignment/Doc/Payslips/Sal...</td>\n",
       "      <td>[form, rule, wage, slip, month, oct, golden, s...</td>\n",
       "    </tr>\n",
       "    <tr>\n",
       "      <th>...</th>\n",
       "      <td>...</td>\n",
       "      <td>...</td>\n",
       "      <td>...</td>\n",
       "      <td>...</td>\n",
       "    </tr>\n",
       "    <tr>\n",
       "      <th>2407</th>\n",
       "      <td>NDA</td>\n",
       "      <td>e29c3877a103aaefcf77ebb110f981a5.pdf</td>\n",
       "      <td>/Users/MYW/Desktop/Assignment/Doc/NDA/e29c3877...</td>\n",
       "      <td>[ex, dex, htm, form, non, competit, non, solic...</td>\n",
       "    </tr>\n",
       "    <tr>\n",
       "      <th>2408</th>\n",
       "      <td>NDA</td>\n",
       "      <td>9f7a97fa1d4912d6312d0a03277c24a8.pdf</td>\n",
       "      <td>/Users/MYW/Desktop/Assignment/Doc/NDA/9f7a97fa...</td>\n",
       "      <td>[ex, dex, htm, confidenti, non, solicit, propr...</td>\n",
       "    </tr>\n",
       "    <tr>\n",
       "      <th>2409</th>\n",
       "      <td>NDA</td>\n",
       "      <td>2f3749e14385bf1eba71c61fdbc6f29f.pdf</td>\n",
       "      <td>/Users/MYW/Desktop/Assignment/Doc/NDA/2f3749e1...</td>\n",
       "      <td>[exhibit, employe, confidenti, agreement, empl...</td>\n",
       "    </tr>\n",
       "    <tr>\n",
       "      <th>2410</th>\n",
       "      <td>NDA</td>\n",
       "      <td>b5da72ae56119942c9c52c49d35d1bda.pdf</td>\n",
       "      <td>/Users/MYW/Desktop/Assignment/Doc/NDA/b5da72ae...</td>\n",
       "      <td>[ex, dex, htm, mutual, non, disclosur, agreeme...</td>\n",
       "    </tr>\n",
       "    <tr>\n",
       "      <th>2411</th>\n",
       "      <td>NDA</td>\n",
       "      <td>b5fa4161f1f646f324d1d95c4562990c.pdf</td>\n",
       "      <td>/Users/MYW/Desktop/Assignment/Doc/NDA/b5fa4161...</td>\n",
       "      <td>[ex, dex, htm, employ, agreement, employ, agre...</td>\n",
       "    </tr>\n",
       "  </tbody>\n",
       "</table>\n",
       "<p>2412 rows × 4 columns</p>\n",
       "</div>"
      ],
      "text/plain": [
       "         label                                        name  \\\n",
       "0     Payslips         Fair_Work_Pay_Slip_Template_(p).pdf   \n",
       "1     Payslips                Recap Paie WIREMIND 2018.pdf   \n",
       "2     Payslips              415450721-Payslip-Template.pdf   \n",
       "3     Payslips  Etat charges salariés BLINKSIGHT 2018.pdf   \n",
       "4     Payslips                             Salary Slip.pdf   \n",
       "...        ...                                         ...   \n",
       "2407       NDA        e29c3877a103aaefcf77ebb110f981a5.pdf   \n",
       "2408       NDA        9f7a97fa1d4912d6312d0a03277c24a8.pdf   \n",
       "2409       NDA        2f3749e14385bf1eba71c61fdbc6f29f.pdf   \n",
       "2410       NDA        b5da72ae56119942c9c52c49d35d1bda.pdf   \n",
       "2411       NDA        b5fa4161f1f646f324d1d95c4562990c.pdf   \n",
       "\n",
       "                                                    dir  \\\n",
       "0     /Users/MYW/Desktop/Assignment/Doc/Payslips/Fai...   \n",
       "1     /Users/MYW/Desktop/Assignment/Doc/Payslips/Rec...   \n",
       "2     /Users/MYW/Desktop/Assignment/Doc/Payslips/415...   \n",
       "3     /Users/MYW/Desktop/Assignment/Doc/Payslips/Eta...   \n",
       "4     /Users/MYW/Desktop/Assignment/Doc/Payslips/Sal...   \n",
       "...                                                 ...   \n",
       "2407  /Users/MYW/Desktop/Assignment/Doc/NDA/e29c3877...   \n",
       "2408  /Users/MYW/Desktop/Assignment/Doc/NDA/9f7a97fa...   \n",
       "2409  /Users/MYW/Desktop/Assignment/Doc/NDA/2f3749e1...   \n",
       "2410  /Users/MYW/Desktop/Assignment/Doc/NDA/b5da72ae...   \n",
       "2411  /Users/MYW/Desktop/Assignment/Doc/NDA/b5fa4161...   \n",
       "\n",
       "                                                   text  \n",
       "0     [pai, slip, date, payment, pai, period, employ...  \n",
       "1     [wiremind, rue, reuilli, pari, wiremind, recap...  \n",
       "2     [perilwis, insur, broke, pvt, salari, payslip,...  \n",
       "3                                                    []  \n",
       "4     [form, rule, wage, slip, month, oct, golden, s...  \n",
       "...                                                 ...  \n",
       "2407  [ex, dex, htm, form, non, competit, non, solic...  \n",
       "2408  [ex, dex, htm, confidenti, non, solicit, propr...  \n",
       "2409  [exhibit, employe, confidenti, agreement, empl...  \n",
       "2410  [ex, dex, htm, mutual, non, disclosur, agreeme...  \n",
       "2411  [ex, dex, htm, employ, agreement, employ, agre...  \n",
       "\n",
       "[2412 rows x 4 columns]"
      ]
     },
     "execution_count": 8,
     "metadata": {},
     "output_type": "execute_result"
    }
   ],
   "source": [
    "files"
   ]
  },
  {
   "cell_type": "markdown",
   "metadata": {},
   "source": [
    "## 2.2 Save the files as files_original.csv"
   ]
  },
  {
   "cell_type": "code",
   "execution_count": 19,
   "metadata": {},
   "outputs": [],
   "source": [
    "output_path = '/Users/MYW/Desktop/Assignment/Doc/files_original.csv'\n",
    "files.to_csv(output_path,sep=',',index=False,header=True)"
   ]
  },
  {
   "cell_type": "code",
   "execution_count": 9,
   "metadata": {
    "collapsed": true
   },
   "outputs": [
    {
     "data": {
      "text/html": [
       "<div>\n",
       "<style scoped>\n",
       "    .dataframe tbody tr th:only-of-type {\n",
       "        vertical-align: middle;\n",
       "    }\n",
       "\n",
       "    .dataframe tbody tr th {\n",
       "        vertical-align: top;\n",
       "    }\n",
       "\n",
       "    .dataframe thead th {\n",
       "        text-align: right;\n",
       "    }\n",
       "</style>\n",
       "<table border=\"1\" class=\"dataframe\">\n",
       "  <thead>\n",
       "    <tr style=\"text-align: right;\">\n",
       "      <th></th>\n",
       "      <th>label</th>\n",
       "      <th>text_string</th>\n",
       "    </tr>\n",
       "  </thead>\n",
       "  <tbody>\n",
       "    <tr>\n",
       "      <th>0</th>\n",
       "      <td>Payslips</td>\n",
       "      <td>pai slip date payment pai period employe emplo...</td>\n",
       "    </tr>\n",
       "    <tr>\n",
       "      <th>1</th>\n",
       "      <td>Payslips</td>\n",
       "      <td>wiremind rue reuilli pari wiremind recappai ré...</td>\n",
       "    </tr>\n",
       "    <tr>\n",
       "      <th>2</th>\n",
       "      <td>Payslips</td>\n",
       "      <td>perilwis insur broke pvt salari payslip decemb...</td>\n",
       "    </tr>\n",
       "    <tr>\n",
       "      <th>3</th>\n",
       "      <td>Payslips</td>\n",
       "      <td>form rule wage slip month oct golden star faci...</td>\n",
       "    </tr>\n",
       "    <tr>\n",
       "      <th>4</th>\n",
       "      <td>Payslips</td>\n",
       "      <td>salari slip http myhr bsnl portal pai salarysl...</td>\n",
       "    </tr>\n",
       "  </tbody>\n",
       "</table>\n",
       "</div>"
      ],
      "text/plain": [
       "      label                                        text_string\n",
       "0  Payslips  pai slip date payment pai period employe emplo...\n",
       "1  Payslips  wiremind rue reuilli pari wiremind recappai ré...\n",
       "2  Payslips  perilwis insur broke pvt salari payslip decemb...\n",
       "3  Payslips  form rule wage slip month oct golden star faci...\n",
       "4  Payslips  salari slip http myhr bsnl portal pai salarysl..."
      ]
     },
     "execution_count": 9,
     "metadata": {},
     "output_type": "execute_result"
    }
   ],
   "source": [
    "# drop the row with 'No text extract'\n",
    "files = files.drop(index = (files.loc[(files['text'] == 'No text extract')].index)).reset_index(drop = True)\n",
    "\n",
    "# convert list_text to one string\n",
    "files['text_string'] = files['text'].apply(' '.join)\n",
    "\n",
    "# drop the row of empty cell of test_string\n",
    "files = files.drop(index = (files.loc[(files['text_string'] == '')].index)).reset_index(drop = True)\n",
    "\n",
    "# creat files with label and text_string\n",
    "file = files[['label','text_string']]\n",
    "file.head()"
   ]
  },
  {
   "cell_type": "markdown",
   "metadata": {},
   "source": [
    "## 2.3 Save preprocessed files as files_preprocess.csv"
   ]
  },
  {
   "cell_type": "code",
   "execution_count": 9,
   "metadata": {},
   "outputs": [],
   "source": [
    "output_path = '/Users/MYW/Desktop/ISS620 Data Science for Financial Services/Assignment/Doc/files_preprocess.csv'\n",
    "file.to_csv(output_path,sep=',',index=False,header=True)"
   ]
  },
  {
   "cell_type": "code",
   "execution_count": 12,
   "metadata": {
    "collapsed": true
   },
   "outputs": [
    {
     "data": {
      "text/html": [
       "<div>\n",
       "<style scoped>\n",
       "    .dataframe tbody tr th:only-of-type {\n",
       "        vertical-align: middle;\n",
       "    }\n",
       "\n",
       "    .dataframe tbody tr th {\n",
       "        vertical-align: top;\n",
       "    }\n",
       "\n",
       "    .dataframe thead th {\n",
       "        text-align: right;\n",
       "    }\n",
       "</style>\n",
       "<table border=\"1\" class=\"dataframe\">\n",
       "  <thead>\n",
       "    <tr style=\"text-align: right;\">\n",
       "      <th></th>\n",
       "      <th>label</th>\n",
       "      <th>text_string</th>\n",
       "      <th>label_id</th>\n",
       "    </tr>\n",
       "  </thead>\n",
       "  <tbody>\n",
       "    <tr>\n",
       "      <th>0</th>\n",
       "      <td>Payslips</td>\n",
       "      <td>pai slip date payment pai period employe emplo...</td>\n",
       "      <td>0</td>\n",
       "    </tr>\n",
       "    <tr>\n",
       "      <th>1</th>\n",
       "      <td>Payslips</td>\n",
       "      <td>wiremind rue reuilli pari wiremind recappai ré...</td>\n",
       "      <td>0</td>\n",
       "    </tr>\n",
       "    <tr>\n",
       "      <th>2</th>\n",
       "      <td>Payslips</td>\n",
       "      <td>perilwis insur broke pvt salari payslip decemb...</td>\n",
       "      <td>0</td>\n",
       "    </tr>\n",
       "    <tr>\n",
       "      <th>3</th>\n",
       "      <td>Payslips</td>\n",
       "      <td>form rule wage slip month oct golden star faci...</td>\n",
       "      <td>0</td>\n",
       "    </tr>\n",
       "    <tr>\n",
       "      <th>4</th>\n",
       "      <td>Payslips</td>\n",
       "      <td>salari slip http myhr bsnl portal pai salarysl...</td>\n",
       "      <td>0</td>\n",
       "    </tr>\n",
       "    <tr>\n",
       "      <th>...</th>\n",
       "      <td>...</td>\n",
       "      <td>...</td>\n",
       "      <td>...</td>\n",
       "    </tr>\n",
       "    <tr>\n",
       "      <th>2334</th>\n",
       "      <td>NDA</td>\n",
       "      <td>ex dex htm form non competit non solicit confi...</td>\n",
       "      <td>5</td>\n",
       "    </tr>\n",
       "    <tr>\n",
       "      <th>2335</th>\n",
       "      <td>NDA</td>\n",
       "      <td>ex dex htm confidenti non solicit proprietari ...</td>\n",
       "      <td>5</td>\n",
       "    </tr>\n",
       "    <tr>\n",
       "      <th>2336</th>\n",
       "      <td>NDA</td>\n",
       "      <td>exhibit employe confidenti agreement employe c...</td>\n",
       "      <td>5</td>\n",
       "    </tr>\n",
       "    <tr>\n",
       "      <th>2337</th>\n",
       "      <td>NDA</td>\n",
       "      <td>ex dex htm mutual non disclosur agreement exhi...</td>\n",
       "      <td>5</td>\n",
       "    </tr>\n",
       "    <tr>\n",
       "      <th>2338</th>\n",
       "      <td>NDA</td>\n",
       "      <td>ex dex htm employ agreement employ agreement e...</td>\n",
       "      <td>5</td>\n",
       "    </tr>\n",
       "  </tbody>\n",
       "</table>\n",
       "<p>2339 rows × 3 columns</p>\n",
       "</div>"
      ],
      "text/plain": [
       "         label                                        text_string  label_id\n",
       "0     Payslips  pai slip date payment pai period employe emplo...         0\n",
       "1     Payslips  wiremind rue reuilli pari wiremind recappai ré...         0\n",
       "2     Payslips  perilwis insur broke pvt salari payslip decemb...         0\n",
       "3     Payslips  form rule wage slip month oct golden star faci...         0\n",
       "4     Payslips  salari slip http myhr bsnl portal pai salarysl...         0\n",
       "...        ...                                                ...       ...\n",
       "2334       NDA  ex dex htm form non competit non solicit confi...         5\n",
       "2335       NDA  ex dex htm confidenti non solicit proprietari ...         5\n",
       "2336       NDA  exhibit employe confidenti agreement employe c...         5\n",
       "2337       NDA  ex dex htm mutual non disclosur agreement exhi...         5\n",
       "2338       NDA  ex dex htm employ agreement employ agreement e...         5\n",
       "\n",
       "[2339 rows x 3 columns]"
      ]
     },
     "execution_count": 12,
     "metadata": {},
     "output_type": "execute_result"
    }
   ],
   "source": [
    "file"
   ]
  },
  {
   "cell_type": "markdown",
   "metadata": {},
   "source": [
    "# 3. Feature extraction with TFIDF"
   ]
  },
  {
   "cell_type": "code",
   "execution_count": 10,
   "metadata": {},
   "outputs": [],
   "source": [
    "# Create a new column 'label_id' with encoded categories \n",
    "file['label_id'] = file['label'].factorize()[0]\n",
    "\n",
    "# Dictionaries for label and id\n",
    "label_to_id_df = file[['label', 'label_id']].drop_duplicates()\n",
    "label_to_id = dict(label_to_id_df.values)\n",
    "id_to_label = dict(label_to_id_df[['label_id','label']].values)\n"
   ]
  },
  {
   "cell_type": "code",
   "execution_count": 11,
   "metadata": {},
   "outputs": [
    {
     "name": "stdout",
     "output_type": "stream",
     "text": [
      "Each of the 2339 text is represented by 449367 features (TF-IDF score of unigrams and bigrams)\n"
     ]
    }
   ],
   "source": [
    "tfidf = TfidfVectorizer(sublinear_tf=True, min_df=5,\n",
    "                        ngram_range=(1, 2))\n",
    "\n",
    "# We transform each text into a vector\n",
    "features = tfidf.fit_transform(file.text_string).toarray()\n",
    "labels = file.label_id\n",
    "\n",
    "print(\"Each of the %d text is represented by %d features (TF-IDF score of unigrams and bigrams)\" %(features.shape))"
   ]
  },
  {
   "cell_type": "code",
   "execution_count": 12,
   "metadata": {
    "collapsed": true
   },
   "outputs": [
    {
     "name": "stdout",
     "output_type": "stream",
     "text": [
      "\n",
      "==> Addendums:\n",
      "  * Most Correlated Unigrams are: terrac, memori, formaldehyd, anchorag, backfil, sleev, dpd, inst_id, sail, ventil, blank, majeur, summit, xlsx, panason, elev, settlement, bim, charlott, toilet, notar, amman, homeown, counti, invoic, ksu, cid, outdoor, deck, conform, apprenticeship, clearanc, transport, istanbul, deadlin, accru, flame, aoa, abat, sprinkler, heater, unicef, tank, redress, lobbi, preconstruct, home, kilometr, tha, seattl, landlord, licensur, beirut, debri, due, suspens, leas, technician, adhes, idaho, reconsider, drainag, reject, lif, folder, sdi, receipt, plumber, superintend, wastewat, protest, ceil, erect, offsit, adjust, dat, pvc, unesco, _________________________________, affix, rate, pmi, zip, gesellschaft, monument, redlin, camera, dewat, transcript, seismic, sanitari, foreclos, depart, corros, erm, mcgill, encroach, thick, evacu, flood, switchgear, vinyl, identif, exce, unforeseen, epoxi, project, confidenti, corridor, amort, vapor, staf, realti, dva, close, wall, construct, stipul, ust, certifi, inclement, rail, coc, princip, cement, vg, seal, park, acoust, encumbr, donor, properti, ____________________________, photo, ssr, profici, fee, gypsum, boat, rental, iom, pw, tear, hancock, tier, owner, submiss, leed, workmanship, caregiv, shall, accept, subordin, site, remitt, disqualifi, garag, disapprov, inch, gpe, washer, floor, weekli, furnitur, minn, rcw, hazard, tenant, nml, tap, document, guaranti, plaza, breaker, weld, campina, architect, dredg, npo, microphon, trust, b_e, impound, conduit, insul, batt, convey, __________, undersign, qualif, pm, holder, villag, yard, offici, signag, autocad, arl, fixtur, prairi, submit, print, paye, propan, onsit, geotechn, stair, procur, price, rfi, manhol, fasten, grade, calendar, fund, underwrit, foreclosur, casualti, valuat, barnard, dai, forfeitur, notari, bedroom, demolish, rev, asbesto, cem, __________________________, delinqu, disburs, toledo, pai, soil, qty, commission, _______________, payabl, paint, penalti, kitchen, earthwork, electrician, debar, _____________________________, tax, hose, cfr, coe, signatur, monei, truck, trench, _____________________________________________, ntp, prestress, sale, street, upload, ________________________________________, _____________, checklist, citi, basement, charg, mortar, rehabilit, paid, asphalt, airport, yd, infest, sheet, pest, disqualif, verif, attach, underground, compliment, unpaid, lawn, sureti, campu, ___________________________, _________________, condemn, inspector, prepay, creditworthi, municip, roof, urban, secretariat, ______________________________________________, subcontract, sow, water, credit, usda, _______________________________, embassi, ______________________, bod, liberia, annex, instal, ________________, excav, trec, affidavit, inspect, _____________________________________, jpg, date, defici, dbe, exterior, premium, ____________________, docx, revis, prepai, ___________________________________, __________________, _________, hous, receptacl, deposit, subcontractor, _______, ______________, fema, hvac, dodd, ______________________________________, broker, valorem, termit, plumb, va, restroom, clarif, renov, curb, conting, landfil, sidewalk, amendatori, monthli, purchas, balloon, ____________________________________, ______, ______________________________, sewer, ____________, __________________________________, certif, insur, contractor, payment, residenti, mortgage, estat, approv, _______________________________________, ________, financ, refund, annum, realtor, _____________________, demolit, veteran, repair, lien, ________________________, rfp, promissori, contract, lender, submitt, _______________________, _____, addenda, ____, _________________________, deed, escrow, bidder, apprais, bid, loan, hud, earnest, mortgag, fha, buyer, seller, addendum\n",
      "  * Most Correlated Bigrams are: buyer acknowledg, rate shall, initi annual, balanc assum, releas seller, seller properti, calendar dai, passag titl, properti describ, contractor licens, fha regul, late payment, seller mortgage, continu monthli, convey properti, monei mortgag, buyer written, price apprais, loan discount, subcontractor shall, transport dispos, seller construct, paragraph seller, buyer failur, obtain loan, statement feder, adequaci provis, amort term, valu condit, bid packag, pdf pdf, balloon payment, trust lien, vendor deed, payment note, applic fee, seller pai, buyer fail, buyer deposit, instruct bidder, threat order, order condemn, titl reason, creation subordin, agreement buyer, default seller, allow buyer, lead base, credit inform, addendum applic, reject seller, payment buyer, buyer termin, sale price, contractor construct, loan approv, instal buyer, loan fha, establish va, financ describ, chang date, written statement, contract contract, provis addendum, paid seller, payment instal, assumpt approv, describ contract, represent legal, requir dodd, pre payment, valuat apprais, rate mortgag, percentag basi, price state, seller expens, purchas buyer, page buyer, reason valu, ____ dai, date close, buyer requir, occupi properti, document seller, contain addendum, sale buyer, proof payment, applic buyer, initi rate, term seller, purpos addendum, referenc project, secur superior, provid addendum, properti address, mortgag deed, addendum issu, accept buyer, sold convei, deposit seller, shall form, financ term, determin seller, address citi, addendum parti, secur note, monthli report, agreement addendum, adjust shall, ad valorem, trust shall, mortgag shall, affirm action, specif section, includ plu, payabl follow, submit bid, provid buyer, penalti prepay, prime contractor, contract remain, signatur seller, agre notwithstand, construct document, seller dai, dai seller, purchas sale, properti sold, purchas shall, signatur author, buyer page, knowledg belief, form approv, close date, buyer expens, seller purchas, hous administr, late charg, superior note, award contract, financ properti, shall furnish, balanc accru, valorem tax, titl insur, bid bond, cost exce, va requir, subordin lien, bid date, price buyer, parti financ, project manual, exce loan, dodd frank, undersign certifi, date date, buyer given, note holder, rata estim, hous commission, contract addendum, note secur, cost seller, addendum purchas, contract date, inspect servic, receipt addendum, signatur buyer, addendum follow, arriv determin, acknowledg receipt, dai effect, insur deposit, buyer close, requir seller, monei refund, year buyer, initi identif, escrow shall, requir addendum, prevail wage, initi date, contract undersign, develop insur, fund fee, special event, bar associ, execut addendum, construct addendum, buyer broker, buyer appli, addendum concern, valuat arriv, requir bid, titl signatur, deliv buyer, mortgag depart, buyer default, initi buyer, notifi buyer, seller determin, paid buyer, condit seller, oblig complet, contractor shall, deposit shall, requir buyer, unit price, seller notic, seller close, bid meet, endors lender, lender buyer, credit report, seller option, depart veteran, purchas monei, seller approv, termin addendum, shall refund, buyer creditworthi, buyer assum, adjust rate, maximum mortgag, accord hud, true best, insur hud, buyer elect, pai defici, addendum includ, bidder shall, seller prior, bid open, loan shall, valu properti, describ incur, va loan, attach addendum, termin earnest, document addendum, pre bid, note shall, buyer satisfi, superior lien, contract purchas, construct manag, financ seller, purchas price, sale properti, loan cost, approv seller, belief agreement, list broker, mortgag loan, date addendum, buyer notic, hud warrant, default deed, associ realtor, buyer deliv, trust secur, option proceed, proceed consumm, real properti, buyer lender, seller termin, contract shall, forth apprais, sign addendum, privileg option, addendum bid, gener contractor, lender set, addendum attach, street address, monei shall, incur penalti, regard apprais, form addendum, depart hous, contractor respons, price condit, fha loan, concern properti, addendum seller, purchas properti, urban develop, forfeitur earnest, texa real, direct endors, seller oblig, note deed, hud fha, buyer loan, veteran affair, addendum date, addendum buyer, seller sole, lender requir, shall privileg, loan origin, accept seller, balanc note, hous urban, lower tier, loan buyer, home inspect, close buyer, properti seller, complet purchas, addendum real, estat commiss, lien secur, satisfi price, buyer dai, financ conting, close cost, date _______________________, warrant valu, notic seller, contract regard, requir lender, contract seller, properti accept, seller initi, loan applic, furnish seller, sale contract, buyer agre, provid seller, properti purchas, addendum form, base bid, tax insur, note buyer, sale agreement, buyer properti, financ buyer, requir repair, penalti forfeitur, buyer date, properti locat, consumm contract, contract conting, date ____________, provis contract, estat purchas, feder hous, insur premium, apprais valuat, seller agre, buyer pai, buyer initi, addendum agreement, approv buyer, paragraph contract, monei deposit, addendum contract, real estat, promissori note, termin contract, deliv seller, bid form, end addendum, conting buyer, mortgag insur, addendum page, princip balanc, buyer credit, seller date, date buyer, seller written, date contract, buyer signatur, addendum shall, notic buyer, refund buyer, contract buyer, condit properti, properti buyer, apprais valu, term addendum, buyer obtain, contract document, addendum addendum, seller seller, seller signatur, fha va, date seller, buyer buyer, seller shall, bid document, seller financ, deed trust, seller buyer, financ addendum, earnest monei, buyer seller, buyer shall\n"
     ]
    },
    {
     "name": "stdout",
     "output_type": "stream",
     "text": [
      "\n",
      "==> Endorsements:\n",
      "  * Most Correlated Unigrams are: municip, shown, bespok, hourli, tpl, agent, ambassador, atmospher, lessen, demolit, creditor, indemnite, upheld, attach, thirti, viral, enrol, revis, gross, wil, wale, ceiv, logo, amidst, fra, school, abc, musician, tep, fume, lieu, transport, pan, moth, pant, ioniz, riot, riddl, hwy, gomez, fin, microchip, steve, tournament, entrant, pasadena, yearli, prejudic, daisi, resurfac, buri, atlanta, pai, hd, cip, ethnic, organis, websit, retent, bpm, dispar, basebal, falcon, wirelin, doe, nbc, polit, guidanc, payabl, pollut, sandra, pearl, stamp, campus, appoint, gov, angel, player, hartford, wallet, locksmith, crane, whichev, haul, season, ject, comeback, signifi, stolen, vacant, _______________, jimmi, patient, unauthoris, recoveri, carefulli, tru, ____________, health, stylist, baggag, payment, exclu, exclud, polic, npa, connor, sprinkler, beverag, name, expir, royalti, exp, anaheim, overtim, amend, ecp, swf, repair, poorest, unrecord, schedul, offens, fremont, cbo, fullerton, kathi, gl, comp, lubric, compliant, easement, taxpay, primari, casualti, grantor, basketbal, feet, ___________, cater, sender, commission, alli, ste, pump, intak, centerlin, simulta, claim, slc, terest, curabl, unapprov, poverti, ssr, expiri, unattend, alcohol, lma, membership, orlando, lessor, educ, phone, cohort, acct, sticker, countersign, neousli, undergon, lite, indigen, insolv, _____________, declar, subdivis, imprint, patriot, unfit, omiss, excess, executori, bankruptci, offici, sport, carolyn, repackag, diego, pupil, southeastern, sidetrack, dominguez, uninsur, insult, introductori, carrier, nonprofit, oth, standardis, profession, respectfulli, xcd, cave, hobb, liais, lid, cassett, broker, alter, scandal, affirm, lloyd, donor, scaffold, annexur, binder, erect, disagr, damag, gdp, ryan, volunt, indemnifi, leighton, mm, sincer, contr, inflat, extort, loc, cobb, wc, premis, warner, learner, household, protract, broader, burglari, shear, hse, nh, lastnam, diamond, aggreg, rent, flammabl, rubbish, artist, ________, firstnam, mold, fax, ongo, commerci, desig, mandatori, usurp, machineri, motor, bradi, authoris, literaci, disreput, declara, preconstruct, insurrect, omaha, unoccupi, footbal, mia, detach, charit, cancel, televis, cover, loss, roadwai, athlet, dermatologist, dd, advertis, banner, mrc, reinsur, robberi, sponsorship, airfar, adv, ext, instructor, iso, stipul, theft, lime, sul, ldi, soccer, risk, occurr, contract, specialti, allianz, pedestrian, worker, hazard, emt, contractor, ea, rpl, renew, holder, barton, sila, ich, hockei, ofthi, jessica, ambul, dakota, liabil, indemn, surveyor, shorelin, gon, guitar, vehicular, film, vintag, leagu, espn, premium, proprietor, nfl, auto, ded, malta, homeown, crest, med, afford, cic, efa, antiqu, photographi, vehicl, nepal, dwell, injuri, addl, bankrupt, eff, endeavour, nba, vandal, tenant, tunnel, diseas, sump, tuition, jewelri, subcontractor, incept, agg, surnam, paye, letterhead, noncontributori, ltr, certif, contributori, gage, celebr, accid, subr, lesse, insd, polici, clayton, boiler, cgl, peril, yyyi, rider, wvd, genl, blanket, umbrella, automobil, insr, railroad, cg, naic, liab, coverag, subrog, acord, bodili, insur, endors\n",
      "  * Most Correlated Bigrams are: wvd polici, pai behalf, contractor insur, state notic, injuri cover, provid cover, coverag coverag, document respect, offic page, polici addit, insur agreement, aris ongo, advis consid, contract respect, complet oper, insur section, exclus appli, subsequ notic, balanc polici, polici repres, loc automobil, fax insur, statement certif, receiv document, polici relev, import client, claim ded, liab occur, insd subr, addl insd, thereof notic, recoveri endors, client ensur, accid occurr, part contract, compani mandatori, iso addit, extent specifi, insur form, natur breach, compliant code, exist insur, adapt ensur, shown form, respect joint, logo regist, check respect, occur claim, yyyi certif, ject loc, ensur power, cover subsequ, insur commerci, measur cover, addit premium, amend extend, contract polici, power relev, oper liabil, respons insur, name complet, auto umbrella, polici certain, note outlin, polici exclud, contract requir, subr wvd, holder cancel, ext mail, certain polici, polici word, retent worker, thereof current, implic code, issu matter, coverag product, practic risk, state polici, incept subsequ, polici term, provid coverag, consult implement, regist mark, alter extent, list issu, non contributori, descript oper, stipul compani, endors identifi, claus code, shown reduc, respect compli, insur avail, site code, liabil polici, coverag certain, injuri caus, loss paye, cover part, statut oth, contract issu, carri period, requir contract, acord form, insur contractor, import parti, version polici, auto coverag, occurr med, certif number, insur certif, member exclud, condit cover, injuri accid, organ insur, reason endeavour, certif confer, insur loss, polici remain, number certifi, ded retent, excess liab, umbrella liab, nh ye, affirm neg, busi auto, notic cancel, form endors, reduc paid, cg cg, respect certif, term exclus, ad paragraph, endors product, law coverag, cover oper, endors number, requir insur, aggreg product, attach space, ye descript, insur date, ltr type, person advertis, indic notwithstand, exclud mandatori, iso form, non own, name polici, organ contractor, exclus polici, date name, consid insur, accid properti, employe diseas, polici shall, insur contract, contain endors, locat design, acord addit, mandatori nh, insur broader, organ endors, occurr damag, insur author, construct site, claim occur, waiver transfer, appli insur, endors addit, partner execut, import certif, repres produc, request insur, auto schedul, person bodili, coverag certif, endors effect, coverag commerci, limit ea, loss insur, note insur, damag accid, behalf perform, mark acord, schedul addit, accid bodili, ea occurr, endors statement, holder lieu, lieu endors, insur name, notwithstand requir, date mm, insur pai, insur provis, damag rent, polici eff, genl aggreg, phone ext, injuri gener, ea employe, liabil proprietor, eff mm, hire auto, insr ltr, schedul auto, auto hire, privat structur, paid claim, compens employ, exclus condit, servic offic, limit shown, vehicl acord, issu pertain, certif affirm, auto non, holder import, address insur, insur constitut, produc certif, auto own, gener aggreg, holder addit, mm dd, insur specifi, adv injuri, waiv subject, person adv, premis ea, med exp, exp person, polici exp, op agg, exp mm, diseas ea, comp op, certifi polici, product comp, ea accid, rent premis, locat vehicl, primari non, date thereof, form cg, respect insur, acord logo, acord corpor, endors shown, certif issu, remark schedul, endors subrog, acord acord, chang insur, yyyi polici, extend alter, singl limit, chang polici, describ polici, endors provid, pertain insur, neg amend, renew polici, locat cover, insur locat, accid diseas, cover polici, carefulli addit, waiver subrog, damag person, requir endors, endors appli, inform confer, product complet, coverag afford, person organ, liabil insur, diseas polici, aggreg limit, addit remark, insur list, coverag includ, compani endors, contact phone, subrog waiv, holder certif, amend includ, limit occurr, worker compens, behalf addit, insur primari, endors includ, advertis injuri, alter coverag, afford coverag, ongo oper, liabil auto, appli bodili, broader requir, schedul shown, client main, complet schedul, follow ad, limit insur, provid endors, polici limit, addit coverag, automobil liabil, coverag appli, origin polici, insur shown, remedi measur, injuri person, cg insur, coverag schedul, polici cancel, caus act, insur state, insur requir, date polici, polici certif, insur servic, type insur, schedul person, liabil cg, shown shown, insur agent, manag contractor, provis endors, endors requir, liabil bodili, follow commerci, coverag form, written contract, read carefulli, dd yyyi, cg endors, omiss act, oper hazard, polici insur, agreement insur, employ liabil, polici read, condit polici, endors endors, insur owner, lesse contractor, agreement endors, owner lesse, insur shall, insur amend, name insur, right certif, insur respect, occurr aggreg, afford polici, number polici, insur follow, ii insur, own auto, insur appli, right recoveri, injuri properti, insur compani, endors polici, respect liabil, endors agreement, certif liabil, issu insur, properti damag, afford addit, organ shown, insur provid, shown declar, coverag endors, endors modifi, insur addit, coverag provid, insur person, polici period, insur coverag, modifi insur, liabil coverag, shown schedul, endors chang, endors insur, endors shall, insur afford, certif holder, bodili injuri, gener liabil, certif insur, polici endors, commerci gener, insur polici, polici number, insur insur, insur endors, addit insur\n"
     ]
    },
    {
     "name": "stdout",
     "output_type": "stream",
     "text": [
      "\n",
      "==> FinancialReports:\n",
      "  * Most Correlated Unigrams are: oil, marketplac, airbu, fca, ernst, accumul, sector, demograph, bargain, treasur, kellogg, peso, arabia, healthi, saudi, polit, farm, deconsolid, truste, insignific, ftse, reward, health, premium, interseg, nasdaq, unremit, mortal, adjust, indonesia, vigor, crop, nol, briberi, forfeit, flow, terrorist, espp, expertis, underfund, empow, agil, inflationari, pariba, regularli, chair, zealand, webcast, cultiv, primarili, sponsor, hsbc, fulfil, quantit, retire, disast, amort, innov, healthcar, disposit, divers, mexico, donat, obsolesc, committe, accompani, capit, leader, plastic, unrest, amount, lti, statutori, noncurr, kpi, kong, citibank, commerc, predominantli, freight, devalu, america, russia, guarantor, econom, crise, payabl, classifi, issuer, launder, strateg, gmbh, margin, campaign, settl, provision, grower, asc, iasb, women, billion, outsourc, depositari, counterparti, annuiti, plaintiff, invest, multin, appetit, indefinit, investor, backlog, payout, nonqualifi, argentina, remit, vest, roic, credit, restat, chairman, disaggreg, judgement, dkk, globe, llp, thailand, qualit, specialist, leaseback, pty, remuner, turnov, headwind, farmer, crisi, prolong, tcja, codif, tranch, ifric, recur, usd, lessor, ghg, fuel, derecognis, plc, unrealis, recognit, subsidi, stewardship, histor, deloitt, philippin, moodi, unadjust, incept, derecogn, malaysia, ongo, settlement, imposit, geopolit, issuabl, rou, issuanc, synergi, brazil, disrupt, goodwil, gdpr, australia, unvest, ambit, dollar, tax, unearn, rebat, foreign, schole, sheet, buyback, kingdom, canadian, luxembourg, shipment, pledg, brand, indebted, million, denomin, wellb, coupon, incent, agricultur, deficit, sanction, sharehold, decemb, registrar, geographi, fleet, undrawn, eur, acquire, immateri, cultur, subleas, forma, lockdown, pacif, accru, uncollect, unconsolid, discretionari, profit, headquart, brexit, retail, fraud, rental, lesse, reconcil, overse, deterior, advers, retir, fair, ratabl, risk, sustain, debentur, diversifi, season, inflat, tonn, liquid, derecognit, conting, strengthen, ethic, defer, gilti, environment, legisl, gross, domest, oversight, repatri, comprehens, ltip, incom, shareown, aoci, singapor, esg, assess, pillar, africa, accret, headcount, dispos, china, carbon, oxlei, sarban, impair, outbreak, capitalis, diversif, guidanc, macroeconom, greenhous, workplac, collater, proud, investe, recognis, declin, downturn, intang, divestitur, earn, debt, emea, overdraft, refinanc, tsr, consolid, rsu, unfund, economi, noncontrol, linkbas, cyber, unobserv, charter, pricewaterhousecoop, portfolio, retrospect, interim, tariff, undistribut, growth, agm, borrow, unfavor, postretir, fiscal, oversea, coso, outlook, computershar, kpmg, repaid, emiss, surplu, inflow, unamort, reassess, climat, matur, coronaviru, asia, uncertainti, asu, cybersecur, uncertain, cgu, treadwai, talent, repay, undiscount, taxat, quarter, quarterli, leasehold, indentur, plant, euro, leas, recover, europ, redeem, unaudit, expedi, leadership, revalu, audit, stakehold, xbrl, ebit, divest, enact, taxabl, revolv, exposur, libor, discount, inventori, amortis, expenditur, unreal, treasuri, outflow, pcaob, fasb, intercompani, auditor, redempt, workforc, unrecogn, reconcili, pension, ifr, filer, fluctuat, carryforward, revenu, accrual, cash, reclassif, remeasur, unsecur, valuat, currenc, actuari, reinvest, pandem, gaap, repurchas, reclassifi, ebitda, misstat, covid, hedg, dividend, dilut, depreci\n",
      "  * Most Correlated Bigrams are: year total, decemb includ, manag respons, expect futur, asset invest, adjust ebitda, cost capit, revenu contract, base histor, unreal gain, leas leas, incom attribut, includ million, summari signific, liabil defer, condit result, incom oper, opinion consolid, capit resourc, accept account, commerci paper, statement year, decemb net, compani emerg, par valu, end june, credit agreement, materi effect, share year, share dilut, statement audit, current period, chang equiti, sharehold equiti, asset goodwil, oper margin, fix incom, valu fair, form file, revenu oper, director execut, return plan, emerg growth, asset non, senior note, gross margin, current tax, trade payabl, valu invest, grant date, benefit cost, hedg item, actual result, compani intern, matur date, loss incom, recogn revenu, histor experi, oper expens, decemb follow, growth compani, current portion, year year, valu hedg, stock base, impact covid, defin contribut, gener accept, go concern, number share, total comprehens, tax law, revenu expens, foreign subsidiari, quarterli report, quarter end, valu measur, statement note, loss recogn, basic earn, statement annual, financi measur, unobserv input, conting liabil, us life, estim us, check mark, free cash, includ consolid, chang tax, net oper, impact financi, asset defer, vest period, total million, base payment, doubt account, share amount, term leas, financi risk, audit accord, common share, tax provis, foreign oper, level fair, contract custom, oper profit, loss gain, expect credit, market valu, unrecogn tax, sheet date, control interest, asset group, investor relat, advers impact, critic account, auditor report, manag risk, activ cash, liabil measur, account estim, decemb total, asset cash, gross profit, asset asset, begin year, valu financi, revolv credit, impact busi, total revenu, asset million, loss million, financi perform, oper loss, total equiti, net defer, report independ, cash invest, practic expedi, statement incom, asset acquir, decemb compani, allow doubt, dividend share, uncertain tax, net sale, cost net, translat adjust, amount million, report consolid, prior period, asset leas, share repurchas, independ regist, analysi financi, million cash, flow oper, million includ, asset net, asset includ, incom incom, tax loss, discount cash, second quarter, indic check, decemb respect, goodwil intang, million increas, financi year, servic cost, cost relat, risk materi, credit rate, disclosur control, date fair, risk uncertainti, futur period, benefit pension, basic dilut, million compar, control procedur, oper segment, cash gener, share issu, incom year, comprehens loss, million relat, pension plan, risk factor, accumul depreci, financi result, revenu growth, risk relat, liabil net, asset held, non gaap, determin fair, deriv instrument, proxi statement, activ net, hedg instrument, market price, share outstand, manag discuss, contribut plan, assess risk, primarili relat, market condit, live asset, pre tax, tax credit, quot price, mark registr, valu hierarchi, covid pandem, carri amount, asset current, benefit oblig, estim futur, expens relat, effect intern, note financi, balanc decemb, goodwil impair, million year, discuss analysi, function currenc, us live, rate swap, statement financi, basi opinion, equiti method, net invest, revenu recogn, cash dividend, acceler filer, tax net, activ market, hedg account, rate risk, flow year, held sale, report segment, financ leas, line basi, account payabl, total current, non cash, tax incom, dividend paid, tax effect, financi liabil, impair charg, regist public, expens million, account receiv, audit matter, loss net, public account, econom condit, million share, present valu, compens expens, currenc exchang, report form, decreas million, statement comprehens, depreci amort, approxim million, signific account, temporari differ, asset impair, accompani note, estim assumpt, share base, revenu recognit, cash provid, gener administr, trade receiv, net loss, account principl, report date, decemb million, market risk, incom net, valuat allow, defer incom, asset liabil, incom statement, impair test, materi impact, report period, audit committe, report unit, total liabil, dilut earn, million respect, accumul comprehens, million decemb, deriv financi, estim fair, materi misstat, term debt, expens incom, expens net, incom tax, effect tax, leas term, plan asset, capit expenditur, oper cash, prepar financi, liabil total, futur cash, defin benefit, corpor govern, fourth quarter, asset total, weight averag, reason assur, decemb decemb, flow hedg, increas million, base compens, tax posit, measur fair, us asset, valu asset, tax benefit, credit loss, net tax, invest activ, retain earn, credit facil, oper incom, total asset, net asset, million net, leas payment, currenc translat, impair loss, statement cash, administr expens, credit risk, foreign exchang, plant equip, partial offset, forward look, chang fair, carri valu, oper activ, look statement, control financi, financi posit, financi statement, consolid balanc, financi asset, work capit, account standard, properti plant, financ activ, prior year, tax expens, exchang rate, incom expens, tax liabil, non current, current liabil, incom loss, oper leas, leas liabil, tax rate, earn share, discount rate, end decemb, financi report, current asset, account polici, gain loss, intang asset, net cash, financi instrument, net incom, note consolid, foreign currenc, intern control, million million, consolid statement, year end, cash cash, balanc sheet, tax asset, cash equival, comprehens incom, defer tax, annual report, consolid financi, cash flow, fair valu\n"
     ]
    },
    {
     "name": "stdout",
     "output_type": "stream",
     "text": [
      "\n",
      "==> NDA:\n",
      "  * Most Correlated Unigrams are: look, lower, basic, deliveri, zero, constant, therewith, main, www, regard, invest, dissemin, refrain, kei, level, support, loop, approach, version, treatment, sharehold, courier, postag, civil, omiss, hash, reproduct, district, string, discoveri, element, ad, binari, prompt, path, low, al, librari, agenc, increas, valuabl, licens, recapit, fast, year, depend, divulg, firm, geograph, sentenc, paramet, connect, product, jointli, designe, circumst, recruit, acm, compar, expir, specif, execut, commonwealth, conduct, contrari, better, output, undersign, cooper, window, count, overnight, complex, acquisit, bond, adequ, author, random, confirm, show, counti, tree, certifi, tion, defin, nonpubl, integ, fullest, personnel, vector, concert, let, structur, pointer, alloc, check, processor, warrant, benefici, signatur, regulatori, small, user, voluntarili, purchas, brought, algorithm, embodi, recit, differ, core, log, add, node, pharmaceut, induc, simpl, arrai, architectur, call, multipl, start, map, virtu, lawfulli, contractu, tribun, tender, parallel, load, variabl, input, ceo, high, portion, definit, contemporan, sever, competitor, monetari, number, thereund, manner, int, consumm, compli, space, cpu, index, byte, interrogatori, ﬁrst, rightfulli, disparag, aris, larg, liabil, event, includ, kernel, judici, optim, month, problem, implement, understand, concern, block, ventur, cach, intent, relat, assist, destruct, litig, comput, illeg, point, stockhold, servic, accord, http, sign, nda, compel, privileg, run, limit, therefrom, notic, retain, non, directli, figur, board, notifi, conflict, contact, memori, thread, authorship, conceiv, harm, request, destroi, arbitr, invalid, tabl, repres, function, electron, exampl, particip, memoranda, effect, acquir, doctrin, emploi, sell, bit, size, preclud, fiduciari, transact, plan, exclus, compens, assign, custom, deliv, commenc, restrain, iii, exchang, partnership, complianc, secur, reason, stock, partner, chief, heir, warranti, action, consider, surviv, right, respect, government, standstil, publicli, relationship, vote, prospect, contempl, permit, market, supplier, confid, purpos, ownership, ii, subpoena, mutual, feder, disput, asset, hire, wit, nondisclosur, cid, exercis, term, receiv, act, public, intellectu, restrict, duli, receipt, venu, hereinaft, prohibit, regul, bind, facsimil, tangibl, dex, period, advis, counterpart, unauthor, subject, damag, merger, paragraph, benefit, htm, violat, whatsoev, matter, inur, supersed, corpor, enter, consult, thereto, competit, exhibit, written, whereof, irrevoc, trade, agent, furnish, equiti, patent, expressli, seek, protect, date, prior, duti, threaten, financi, invent, titl, advisor, behalf, presid, sole, irrepar, compet, equit, delawar, engag, termin, govern, negoti, acknowledg, successor, constitut, entiti, extent, inform, amend, promptli, notwithstand, counsel, possess, materi, pursuant, enforc, attornei, legal, oral, entitl, secret, forth, person, offic, waiv, director, coven, subsidiari, recipi, unenforc, injunct, deem, relief, indirectli, constru, jurisdict, forego, waiver, busi, hereto, hereund, proprietari, consent, thereof, hereof, remedi, solicit, affili, court, provis, law, oblig, employ, compani, agre, employe, breach, shall, parti, disclosur, disclos, agreement, confidenti\n",
      "  * Most Correlated Bigrams are: follow termin, cours employ, result disclosur, express impli, extent permit, exhibit confidenti, proceed aris, appropri remedi, disclos disclos, nondisclosur agreement, repres need, custom supplier, client privileg, solicit non, constitut agreement, jurisdict venu, need know, provid disclos, htm confidenti, contain confidenti, provid receiv, gener known, analys compil, financi advisor, execut employ, assur confidenti, benefit parti, cid cid, deliv compani, direct indirect, termin discuss, acknowledg compani, feder state, disclosur non, disclos evalu, copi confidenti, avail law, hereof shall, suit proceed, shall us, unauthor disclosur, inform sole, good valuabl, written request, attornei client, repres provid, law rule, proprietari confidenti, inform agreement, parti execut, date termin, exclus jurisdict, unauthor us, parti employe, respons breach, agreement sign, waiv complianc, coven contain, understand agreement, confidenti confidenti, state feder, inform provid, valuabl consider, shall directli, competit non, exclus properti, request requir, order appropri, remain provis, execut offic, signatur page, agreement contain, bound confidenti, inform materi, bind parti, remain forc, waiver thereof, parti us, behalf compani, prior agreement, compani termin, shall oper, singl partial, inform defin, inform furnish, order remedi, non confidenti, court locat, repres disclos, degre care, provis section, valid enforc, term confidenti, right oblig, agreement agre, maintain confidenti, us disclos, partial exercis, independ contractor, shall promptli, seek protect, agreement effect, solicit employ, constitut entir, retain copi, materi non, assign compani, respect confidenti, remedi law, secret confidenti, confidenti basi, understand parti, inform mean, action proceed, repres parti, provid compani, mutual non, shall appli, duli author, accuraci complet, surviv termin, execut counterpart, agreement amend, product servic, legal process, employe employe, agre disclos, agreement respect, action suit, date written, thereof shall, agre period, agreement provid, failur delai, provid parti, forth section, sole discret, gener avail, gener counsel, indirectli solicit, reason effort, oblig hereund, unenforc provis, oral written, feder court, law regul, sell secur, post bond, section shall, recipi repres, monei damag, public announc, employ agreement, counterpart shall, shall effect, event breach, employe consult, sole purpos, deem origin, law agreement, mean inform, shall surviv, agreement non, inform relat, termin agreement, vice presid, illeg unenforc, provis hereof, recipi agre, transact involv, exchang act, patent copyright, oper waiver, term provis, disclosur us, violat agreement, understand agre, privileg hereund, oblig parti, prior disclosur, purchas sell, access confidenti, disclos person, consent compani, secur law, section agreement, respect transact, legal requir, confidenti natur, agreement includ, forth agreement, shall continu, compani confidenti, requir law, parti provid, year date, right titl, parti prior, avail public, relat agreement, agre compani, unit state, irrepar harm, sign parti, breach provis, parti affili, time disclosur, agreement repres, written notic, aris relat, enforc provis, public domain, right remedi, restrict period, busi compani, compani subsidiari, compani agre, secur compani, termin employe, whereof parti, work product, requir disclos, attornei fee, request compani, confidenti treatment, inform concern, employ employe, transact parti, offic director, specif perform, execut deliv, agreement receiv, board director, agreement constitut, inform recipi, copi thereof, term condit, shall affect, agreement understand, disclos inform, provis shall, consent parti, compani compani, letter agreement, public inform, agreement date, respect subject, assign agreement, confidenti oblig, inform employe, agreement enter, supersed prior, parti oblig, delawar corpor, us disclosur, secur exchang, purpos evalu, properti compani, hereund shall, compani repres, shall includ, intellectu properti, exercis thereof, agreement term, compani busi, inform purpos, offic employe, breach threaten, written oral, compani affili, inform person, shall disclos, enter agreement, independ develop, confidenti non, inur benefit, vote secur, invalid unenforc, written agreement, busi relationship, contain agreement, period year, addit remedi, law equiti, notwithstand forego, agreement employe, constru accord, represent warranti, recipi shall, write sign, remedi breach, protect confidenti, remedi avail, power privileg, forc effect, includ inform, director offic, oblig agreement, wit whereof, effect date, threaten breach, employe agent, repres shall, right power, shall bind, employe acknowledg, govern constru, parti acknowledg, shall constitut, conflict law, equit relief, agreement compani, agreement exhibit, agreement confidenti, non public, matter hereof, govern law, court compet, date hereof, subsidiari affili, parti agreement, execut agreement, discuss negoti, dex htm, date agreement, accord law, compani employe, ex dex, definit agreement, possibl transact, employe compani, inform compani, inform receiv, parti confidenti, exercis right, shall constru, compet jurisdict, shall mean, oblig confidenti, employe shall, shall govern, parti receiv, purpos agreement, shall remain, non solicit, agre follow, injunct relief, successor assign, person entiti, inform includ, compani shall, inform confidenti, evalu materi, acknowledg agre, entir agreement, agreement execut, law state, inform parti, non competit, parti disclos, disclosur confidenti, shall entitl, employe employ, termin employ, parti respect, parti repres, protect order, applic law, employe agre, subject matter, parti parti, confidenti proprietari, employ compani, us confidenti, written consent, prior written, inform shall, disclos confidenti, term agreement, proprietari inform, shall deem, inform disclos, confidenti agreement, parti hereto, breach agreement, agreement parti, trade secret, agreement agreement, disclosur agreement, parti agre, parti shall, set forth, includ limit, directli indirectli, non disclosur, receiv parti, disclos parti, provis agreement, agreement shall, confidenti inform\n"
     ]
    },
    {
     "name": "stdout",
     "output_type": "stream",
     "text": [
      "\n",
      "==> Payslips:\n",
      "  * Most Correlated Unigrams are: gal, sl, sandeep, apt, orang, supp, prev, bull, morin, payabl, hou, format, statutori, servant, sold, prakash, vidal, asterisk, comp, florian, rahul, anil, af, michel, apr, till, sami, ni, el, perth, cout, catherin, gr, felix, bac, margaret, union, christin, amazon, indi, amar, universiteit, pb, bruno, seif, pierr, cl, dl, attend, subscript, laurent, verma, vo, hor, jean, allow, shankar, pal, cabinet, mise, charg, ramesh, month, rama, leiden, arr, logiciel, midi, boulevard, medic, marion, payrol, mae, eur, male, bina, vijai, dia, refund, mishra, clerk, gomez, paid, won, hous, ssp, lav, fin, filet, travel, loi, staff, sex, chaudhri, br, compensatori, even, andb, drv, clair, claud, golden, conv, leav, labour, jori, basic, absenc, fund, bertrand, sunil, father, mehdi, rita, concess, broke, ranjan, lorrain, pablo, raj, yann, bene, impos, la, etienn, eva, portal, cumul, ag, pt, fernandez, dure, adop, dan, chef, grade, electrician, mohit, ee, welfar, garden, matz, bonu, gaston, monika, restaur, oct, dinesh, repris, contribut, cad, rohit, singh, jha, rive, sacrific, fabien, aud, orbc, fiscal, nett, fam, saturdai, junior, fanni, rival, rishi, rudi, spl, casual, pension, ts, systèm, sg, julien, payment, prof, kenya, incom, recapitul, cif, sophi, stephani, informatiqu, armand, cour, marseil, ss, pat, rajesh, rtt, reciev, hpl, lic, transport, prime, alison, abn, cyril, td, euro, esi, mr, unskil, tr, bulletin, rub, eriksson, jsp, cum, antoin, samba, festiv, coeff, cca, pari, droit, evt, overtim, didier, contr, wash, chequ, pri, coeffici, santo, mohan, sur, arnaud, rent, pai, genr, tiwari, mou, holt, housekeep, adv, françoi, frédéric, afc, sal, nom, sick, chez, sont, ashok, seventi, nb, fda, emma, hr, viet, perquisit, sbin, ramachandran, le, club, tra, compl, abp, nath, kari, sde, etat, retr, karin, hourli, total, devi, emp, yve, madam, tout, delhi, holidai, bipin, eoi, saint, cao, wage, tc, vacanc, cart, net, pour, rupe, français, gmp, emolu, sundri, remi, guillaum, scl, acc, social, bank, kumar, tb, superannu, earn, liver, taxabl, avinash, esr, autr, govt, gross, chennai, du, femm, adress, barb, ltc, francoi, acct, tranch, société, ruptur, conseil, india, matern, jour, convey, ta, avec, avant, pradesh, tax, développ, accid, mtp, upg, coti, tot, au, pf, de, cong, jacqu, cdd, cet, salari, fng, fich, patron, acqui, pan, hyderabad, moi, gaurav, moin, sou, autonomi, arrear, nombr, epf, pvt, contrib, dossier, rs, rue, impôt, dialogu, général, complément, garanti, frai, navigo, payer, deduct, solidarité, mutuel, exceptionnel, crd, hra, forfait, jei, entré, slip, payé, apprentissag, prévoyanc, salarié, heur, maladi, travail, plafonné, déductibl, cotis, familial, csg, vieilless, exo, fnal, brut, retrait, salair, apec, cadr, agff\n",
      "  * Most Correlated Bigrams are: total minimum, wage hour, summari section, rate percentag, assign number, addit small, intern us, emploi assist, account provid, june includ, award agreement, agreement award, explain differ, payment bank, number note, exampl right, employe refer, card allow, total work, month includ, determin percentag, item appear, inform registr, list common, pension scheme, earlier month, servic number, design assist, statement decemb, number post, contribut non, allow individu, hour month, dai purpos, incom total, ag ag, page code, expect net, tax total, allow allow, limit accid, detail relat, payment subject, bonu payment, registr number, divis new, base tax, payment termin, assess period, result month, allow termin, section valu, tax code, issu employe, advanc advanc, hour week, incom addit, et le, account offic, line sub, hour averag, option net, januari includ, exampl net, le et, bank net, relat period, limit tax, salari payment, month payabl, queri correspond, payment account, softwar solut, level scale, pension payment, team manag, secur contribut, total payment, design basic, total cumul, travel expens, custom success, decemb termin, requir fair, shown net, reimburs travel, deriv time, annual tax, addit month, non pension, rent total, number contract, total tax, job titl, taxabl incom, tax payabl, impos total, appli time, total gross, decemb basi, sp exampl, pai paid, number ab, compani websit, payment total, maximum point, sub divis, paid tax, incom special, net addit, gross annual, group insur, number incom, percentag incom, calcul tabl, employe id, work introduct, ss ss, rate rate, period occur, associ net, rate annual, pai earn, descript non, tax taxabl, month addit, deduct incom, detail includ, earn paid, net allow, load type, work address, address princip, work basic, salari determin, number registr, month decemb, hour number, tax appli, calcul month, import identifi, date birth, applic web, annual special, allow end, ni number, dai work, success market, capit gain, old ag, ta ta, net reimburs, year incom, year april, regist govern, incent base, rate gross, decemb end, fund scheme, charg net, month payment, correspond year, tax period, govern organis, need contact, includ notic, decemb month, current pai, work dai, payabl dai, locat base, nd floor, type public, tax tabl, number hour, mark asterisk, date oct, incom taxabl, usual relat, locat work, templat provid, current paid, rue du, bank direct, number depart, post data, dan le, pai relat, right mr, total pai, identifi quot, pai pai, date direct, insur pension, earn total, exchang net, euro base, page journal, tc tc, locat head, minimum wage, paid pro, explanatori note, sick leav, payrol date, payment bonu, deduct gross, tax deduct, contribut fund, paid rate, number bank, payrol tax, leav leav, allow deduct, includ decemb, abbrevi descript, sur la, project descript, state bank, scheme number, continu tax, page total, tabl abbrevi, practic model, depart head, pour le, occur pre, result statutori, model net, hourli rate, base prime, allow person, month total, insur contribut, base contribut, previou tax, date salari, contract number, head offic, salari wage, employe insur, month net, enhanc payment, contribut partial, rate descript, refund payment, rate salari, pr ps, tranch tranch, facil servic, gross payment, number net, scheme pension, variabl allow, date balanc, special payment, choic model, decemb employe, allow basic, salari employ, compani logo, rue la, pai year, payment pai, box show, special tax, number salari, monthli salari, design locat, form rule, transfer bank, situat employe, site internet, pai period, new delhi, year bonu, mainten work, print save, direct deposit, inclus inform, net contribut, work regul, incom tax, total net, base en, allow special, bank branch, requir signatur, leav detail, rate type, contract carri, base particip, pai total, transit provis, establish contract, base social, us account, descript basic, trial version, ground floor, paid leav, salari paid, pai pension, close check, account number, novemb total, current deduct, payabl tax, locat incom, pension pai, allow incom, base total, date join, version www, hr hr, develop bank, non deduct, employe detail, bank account, industri estat, chapter vi, rate bank, non taxabl, type bank, number organ, social contribut, balanc tax, total base, salari allow, account fund, month januari, earn current, site allow, address establish, provid fund, total dai, calcul open, transfer softwar, number contribut, net payment, minimum point, limit alloc, superannu contribut, allow leav, model transit, employe number, sur le, manag locat, bank transfer, unit offic, ta tb, deduct total, payment deduct, scale unit, public holidai, particip format, reduct charg, india limit, fair work, format continu, sourc net, limit place, date increment, gross pai, ts total, payment detail, gross total, servic india, leav balanc, earn basic, detail payment, allow total, gross earn, basic salari, deduct net, le page, prime exceptionnel, hous rent, profession tax, total earn, contribut au, au dialogu, accid du, ta agff, non déductibl, net pai, du travail, csg déductibl, special allow, prévoyanc cadr, tax apprentissag, agff cadr, retrait cadr, fnal plafonné, net impos, salair base, dialogu social, net payer, alloc familial, total deduct\n",
      "\n",
      "==> RandomPDFs:\n",
      "  * Most Correlated Unigrams are: search, max, second, machin, support, limit, atom, restrain, hardwar, prevail, easi, main, row, pass, instruct, theorem, elect, throughput, speed, price, pai, endors, vest, harm, overhead, runtim, api, add, intent, level, injuri, confirm, reimburs, compress, acquir, larger, logic, district, handl, microsoft, acquisit, request, compar, lender, monetari, synchron, store, low, fiduciari, arbitr, lock, os, transact, encod, conflict, ceo, diﬀer, aris, approach, heir, retain, interfac, differ, certif, depend, goodwil, includ, linux, virtual, document, iii, tender, assist, standstil, ieee, partit, invest, warrant, static, pair, argument, graph, reason, zero, constant, version, org, queue, ﬁle, mode, event, complex, exclus, sort, right, server, custom, consumm, better, latenc, ﬁnd, year, structur, personnel, faster, length, respect, loan, surviv, dynam, ventur, speciﬁc, stockhold, linear, accord, instead, electron, element, al, subpoena, relationship, commiss, queri, agenc, show, deliveri, sign, gpu, regulatori, ing, iter, effect, salari, nondisclosur, consider, exchang, notifi, buffer, bond, litig, restrict, contact, publicli, stack, counti, dex, notic, action, librari, undersign, user, paramet, start, core, deﬁn, purpos, sequenc, loop, fee, htm, window, intel, high, confid, path, input, output, fast, sharehold, small, variabl, ii, point, counterpart, firm, contempl, expir, index, string, count, hash, venu, binari, multipl, particip, servic, contractu, payabl, paid, space, load, acm, wit, vote, bind, mutual, intellectu, warranti, tion, inur, secur, call, violat, board, certifi, ownership, whatsoev, processor, random, tree, exercis, larg, facsimil, implement, map, let, architectur, month, deliv, partnership, log, vector, simpl, prohibit, integ, public, signatur, dai, pointer, unauthor, tangibl, government, compli, prospect, stock, disput, arrai, invent, hire, hereinaft, plan, exhibit, node, receiv, partner, tax, matter, parallel, compens, sell, http, chief, merger, whereof, permit, competit, irrevoc, corpor, patent, supersed, duli, tabl, commenc, optim, advis, int, market, algorithm, buyer, cpu, block, byte, exampl, irrepar, run, ﬁrst, threaten, problem, benefit, sale, comput, trade, insur, advisor, written, protect, seek, complianc, kernel, seller, supplier, figur, term, enter, cach, equit, thereto, act, subject, successor, function, consult, size, asset, expressli, financ, delawar, approv, compet, liabil, feder, duti, paragraph, inform, period, thread, acknowledg, presid, regul, enforc, prior, contractor, termin, damag, memori, bit, negoti, possess, sole, equiti, constitut, receipt, engag, purchas, behalf, furnish, promptli, payment, extent, secret, counsel, entiti, oral, agent, notwithstand, titl, recipi, injunct, govern, contract, attornei, unenforc, cid, addendum, financi, relief, materi, indirectli, constru, pursuant, coven, entitl, forth, subsidiari, waiv, person, legal, proprietari, forego, hereto, deem, director, hereund, hereof, jurisdict, amend, thereof, waiver, solicit, offic, busi, remedi, consent, date, affili, court, law, employ, breach, oblig, compani, provis, agre, disclosur, employe, disclos, parti, shall, confidenti, agreement\n",
      "  * Most Correlated Bigrams are: perform duti, unauthor disclosur, benefit parti, employe repres, coven agreement, order appropri, exclus jurisdict, shall directli, suit proceed, parti employe, understand agreement, bound confidenti, relat thereto, remain provis, term defin, inform defin, hereof shall, waiver thereof, exclus properti, pursuant agreement, competit non, agent repres, http www, agre parti, appropri remedi, term employ, repres warrant, coven contain, non confidenti, repres disclos, shall oblig, degre care, relat busi, order remedi, singl partial, term confidenti, parti execut, common stock, solicit employ, busi plan, retain copi, act amend, unauthor us, prior agreement, court locat, inform furnish, exchang commiss, director employe, us disclos, remedi law, properti right, confidenti basi, director compani, partial exercis, mutual non, respect confidenti, maintain confidenti, compani parti, inform mean, rule regul, signatur page, direct indirect, assign compani, parti us, agreement sign, period month, seek protect, good valuabl, understand parti, busi dai, compani termin, execut counterpart, failur delai, law rule, inform materi, shall oper, behalf compani, secret confidenti, custom supplier, written request, legal process, indirectli solicit, action proceed, accuraci complet, legal counsel, bind parti, shall right, gener avail, compani provid, action suit, valid enforc, surviv termin, agre period, materi non, unenforc provis, recipi repres, agre disclos, extent permit, post bond, oral written, relat compani, date termin, monei damag, public announc, constitut entir, valuabl consider, condit agreement, date written, mean inform, repres parti, accord term, agreement agre, shall provid, compani includ, recipi agre, illeg unenforc, thereof shall, patent copyright, sell secur, agreement respect, law agreement, forth section, oper waiver, deem origin, counterpart shall, employe consult, provis hereof, event breach, privileg hereund, provid parti, prior disclosur, shall us, inform provid, et al, agreement non, violat agreement, joint ventur, feder court, disclos person, access confidenti, disclosur us, state feder, employe employe, sole purpos, compani confidenti, confidenti natur, section shall, provis section, agreement effect, public domain, consent compani, understand agre, oblig hereund, shall promptli, agreement contain, provid compani, busi combin, oblig parti, avail public, right titl, independ contractor, respect transact, reason effort, transact involv, irrepar harm, right oblig, shall effect, purchas sell, duli author, time disclosur, parti affili, agre compani, restrict period, agreement repres, breach provis, parti prior, work product, termin employe, shall surviv, enforc provis, legal requir, confidenti treatment, forth agreement, financi inform, request compani, term provis, transact parti, inform recipi, parti provid, agreement receiv, author repres, right remedi, specif perform, employ agreement, relat agreement, section agreement, copi thereof, secur compani, confidenti oblig, agreement amend, purpos evalu, gener counsel, inform concern, aris relat, agreement constitut, disclos inform, inform relat, consent parti, agreement provid, whereof parti, shall continu, remain forc, inform employe, requir law, exercis thereof, public inform, feder state, us disclosur, assign agreement, employ employe, compani agre, inform purpos, properti compani, data structur, busi compani, sign parti, agreement understand, secur law, supersed prior, respect subject, parti oblig, breach threaten, inform person, delawar corpor, requir disclos, compani repres, confidenti non, hereund shall, product servic, shall affect, letter agreement, chief execut, independ develop, inur benefit, shall disclos, written oral, vote secur, attornei fee, sole discret, compani affili, recipi shall, addit remedi, agreement includ, execut deliv, offic director, remedi breach, termin agreement, invalid unenforc, law equiti, power privileg, provis shall, year date, exchang act, compani subsidiari, notwithstand forego, constru accord, protect confidenti, shall appli, agreement employe, busi relationship, remedi avail, threaten breach, employe acknowledg, includ inform, write sign, unit state, law regul, agreement confidenti, govern constru, equit relief, conflict law, agreement term, written agreement, contain agreement, vice presid, intellectu properti, compani busi, non public, enter agreement, repres shall, right power, agreement enter, matter hereof, agreement exhibit, dex htm, discuss negoti, director offic, ex dex, compani compani, parti acknowledg, shall bind, oblig agreement, offic employe, subsidiari affili, execut offic, possibl transact, wit whereof, date hereof, represent warranti, definit agreement, accord law, agreement compani, secur exchang, parti confidenti, govern law, inform receiv, court compet, date agreement, execut agreement, compani employe, oblig confidenti, employe agent, shall constitut, parti agreement, purpos agreement, shall includ, employe compani, non solicit, period year, employe shall, exercis right, injunct relief, forc effect, parti receiv, compet jurisdict, cid cid, shall constru, board director, shall mean, inform compani, agreement date, shall govern, inform confidenti, successor assign, evalu materi, written notic, inform includ, agre follow, person entiti, parti disclos, inform parti, non competit, disclosur confidenti, protect order, parti repres, employe agre, acknowledg agre, employe employ, parti respect, law state, agreement execut, termin employ, entir agreement, shall entitl, shall remain, compani shall, confidenti proprietari, parti parti, subject matter, us confidenti, applic law, employ compani, term condit, effect date, inform shall, disclos confidenti, proprietari inform, confidenti agreement, inform disclos, prior written, written consent, breach agreement, disclosur agreement, trade secret, parti hereto, term agreement, shall deem, agreement agreement, agreement parti, parti shall, directli indirectli, parti agre, non disclosur, receiv parti, includ limit, disclos parti, set forth, provis agreement, agreement shall, confidenti inform\n"
     ]
    }
   ],
   "source": [
    "# Finding the 400 most correlated terms with each of the paper categories\n",
    "N = 400\n",
    "for label, label_id in sorted(label_to_id.items()):\n",
    "    features_chi2 = chi2(features, labels == label_id)\n",
    "    indices = np.argsort(features_chi2[0])\n",
    "    feature_names = np.array(tfidf.get_feature_names())[indices]\n",
    "    unigrams = [v for v in feature_names if len(v.split(' ')) == 1]\n",
    "    bigrams = [v for v in feature_names if len(v.split(' ')) == 2]\n",
    "    print(\"\\n==> %s:\" %(label))\n",
    "    print(\"  * Most Correlated Unigrams are: %s\" %(', '.join(unigrams[-N:])))\n",
    "    print(\"  * Most Correlated Bigrams are: %s\" %(', '.join(bigrams[-N:])))"
   ]
  },
  {
   "cell_type": "markdown",
   "metadata": {},
   "source": [
    "# 4. Models to classify the paper"
   ]
  },
  {
   "cell_type": "markdown",
   "metadata": {},
   "source": [
    "## 4.1 Split the train and test data set"
   ]
  },
  {
   "cell_type": "code",
   "execution_count": 13,
   "metadata": {},
   "outputs": [],
   "source": [
    "X = file['text_string']\n",
    "y = file['label']\n",
    "\n",
    "X_train, X_test, y_train, y_test = train_test_split(X,y,test_size = 0.3,\n",
    "                                                   random_state = 0)"
   ]
  },
  {
   "cell_type": "markdown",
   "metadata": {},
   "source": [
    "## 4.2 Model build"
   ]
  },
  {
   "cell_type": "code",
   "execution_count": 14,
   "metadata": {},
   "outputs": [],
   "source": [
    "models = [RandomForestClassifier(n_estimators=100, max_depth=5, random_state=0),\n",
    "          LinearSVC(),\n",
    "          MultinomialNB(),\n",
    "          LogisticRegression(random_state=0)]"
   ]
  },
  {
   "cell_type": "markdown",
   "metadata": {},
   "source": [
    "## 4.3 Cross-validation"
   ]
  },
  {
   "cell_type": "code",
   "execution_count": 27,
   "metadata": {},
   "outputs": [],
   "source": [
    "CV = 6\n",
    "cv_df = pd.DataFrame(index=range(CV * len(models)))\n",
    "\n",
    "entries = []\n",
    "for model in models:\n",
    "    model_name = model.__class__.__name__\n",
    "    accuracies = cross_val_score(model, features, labels, scoring='accuracy', cv=CV)\n",
    "    for fold_idx, accuracy in enumerate(accuracies):\n",
    "        entries.append((model_name, fold_idx, accuracy))\n",
    "    \n",
    "cv_df = pd.DataFrame(entries, columns=['model_name', 'fold_idx', 'accuracy'])"
   ]
  },
  {
   "cell_type": "code",
   "execution_count": 28,
   "metadata": {
    "collapsed": true
   },
   "outputs": [
    {
     "data": {
      "text/html": [
       "<div>\n",
       "<style scoped>\n",
       "    .dataframe tbody tr th:only-of-type {\n",
       "        vertical-align: middle;\n",
       "    }\n",
       "\n",
       "    .dataframe tbody tr th {\n",
       "        vertical-align: top;\n",
       "    }\n",
       "\n",
       "    .dataframe thead th {\n",
       "        text-align: right;\n",
       "    }\n",
       "</style>\n",
       "<table border=\"1\" class=\"dataframe\">\n",
       "  <thead>\n",
       "    <tr style=\"text-align: right;\">\n",
       "      <th></th>\n",
       "      <th>model_name</th>\n",
       "      <th>fold_idx</th>\n",
       "      <th>accuracy</th>\n",
       "    </tr>\n",
       "  </thead>\n",
       "  <tbody>\n",
       "    <tr>\n",
       "      <th>0</th>\n",
       "      <td>RandomForestClassifier</td>\n",
       "      <td>0</td>\n",
       "      <td>0.917949</td>\n",
       "    </tr>\n",
       "    <tr>\n",
       "      <th>1</th>\n",
       "      <td>RandomForestClassifier</td>\n",
       "      <td>1</td>\n",
       "      <td>0.915385</td>\n",
       "    </tr>\n",
       "    <tr>\n",
       "      <th>2</th>\n",
       "      <td>RandomForestClassifier</td>\n",
       "      <td>2</td>\n",
       "      <td>0.912821</td>\n",
       "    </tr>\n",
       "    <tr>\n",
       "      <th>3</th>\n",
       "      <td>RandomForestClassifier</td>\n",
       "      <td>3</td>\n",
       "      <td>0.905128</td>\n",
       "    </tr>\n",
       "    <tr>\n",
       "      <th>4</th>\n",
       "      <td>RandomForestClassifier</td>\n",
       "      <td>4</td>\n",
       "      <td>0.917949</td>\n",
       "    </tr>\n",
       "    <tr>\n",
       "      <th>5</th>\n",
       "      <td>RandomForestClassifier</td>\n",
       "      <td>5</td>\n",
       "      <td>0.912596</td>\n",
       "    </tr>\n",
       "    <tr>\n",
       "      <th>6</th>\n",
       "      <td>LinearSVC</td>\n",
       "      <td>0</td>\n",
       "      <td>0.979487</td>\n",
       "    </tr>\n",
       "    <tr>\n",
       "      <th>7</th>\n",
       "      <td>LinearSVC</td>\n",
       "      <td>1</td>\n",
       "      <td>0.987179</td>\n",
       "    </tr>\n",
       "    <tr>\n",
       "      <th>8</th>\n",
       "      <td>LinearSVC</td>\n",
       "      <td>2</td>\n",
       "      <td>0.994872</td>\n",
       "    </tr>\n",
       "    <tr>\n",
       "      <th>9</th>\n",
       "      <td>LinearSVC</td>\n",
       "      <td>3</td>\n",
       "      <td>0.982051</td>\n",
       "    </tr>\n",
       "    <tr>\n",
       "      <th>10</th>\n",
       "      <td>LinearSVC</td>\n",
       "      <td>4</td>\n",
       "      <td>0.989744</td>\n",
       "    </tr>\n",
       "    <tr>\n",
       "      <th>11</th>\n",
       "      <td>LinearSVC</td>\n",
       "      <td>5</td>\n",
       "      <td>0.989717</td>\n",
       "    </tr>\n",
       "    <tr>\n",
       "      <th>12</th>\n",
       "      <td>MultinomialNB</td>\n",
       "      <td>0</td>\n",
       "      <td>0.905128</td>\n",
       "    </tr>\n",
       "    <tr>\n",
       "      <th>13</th>\n",
       "      <td>MultinomialNB</td>\n",
       "      <td>1</td>\n",
       "      <td>0.905128</td>\n",
       "    </tr>\n",
       "    <tr>\n",
       "      <th>14</th>\n",
       "      <td>MultinomialNB</td>\n",
       "      <td>2</td>\n",
       "      <td>0.902564</td>\n",
       "    </tr>\n",
       "    <tr>\n",
       "      <th>15</th>\n",
       "      <td>MultinomialNB</td>\n",
       "      <td>3</td>\n",
       "      <td>0.907692</td>\n",
       "    </tr>\n",
       "    <tr>\n",
       "      <th>16</th>\n",
       "      <td>MultinomialNB</td>\n",
       "      <td>4</td>\n",
       "      <td>0.907692</td>\n",
       "    </tr>\n",
       "    <tr>\n",
       "      <th>17</th>\n",
       "      <td>MultinomialNB</td>\n",
       "      <td>5</td>\n",
       "      <td>0.910026</td>\n",
       "    </tr>\n",
       "    <tr>\n",
       "      <th>18</th>\n",
       "      <td>LogisticRegression</td>\n",
       "      <td>0</td>\n",
       "      <td>0.946154</td>\n",
       "    </tr>\n",
       "    <tr>\n",
       "      <th>19</th>\n",
       "      <td>LogisticRegression</td>\n",
       "      <td>1</td>\n",
       "      <td>0.956410</td>\n",
       "    </tr>\n",
       "    <tr>\n",
       "      <th>20</th>\n",
       "      <td>LogisticRegression</td>\n",
       "      <td>2</td>\n",
       "      <td>0.976923</td>\n",
       "    </tr>\n",
       "    <tr>\n",
       "      <th>21</th>\n",
       "      <td>LogisticRegression</td>\n",
       "      <td>3</td>\n",
       "      <td>0.953846</td>\n",
       "    </tr>\n",
       "    <tr>\n",
       "      <th>22</th>\n",
       "      <td>LogisticRegression</td>\n",
       "      <td>4</td>\n",
       "      <td>0.964103</td>\n",
       "    </tr>\n",
       "    <tr>\n",
       "      <th>23</th>\n",
       "      <td>LogisticRegression</td>\n",
       "      <td>5</td>\n",
       "      <td>0.948586</td>\n",
       "    </tr>\n",
       "  </tbody>\n",
       "</table>\n",
       "</div>"
      ],
      "text/plain": [
       "                model_name  fold_idx  accuracy\n",
       "0   RandomForestClassifier         0  0.917949\n",
       "1   RandomForestClassifier         1  0.915385\n",
       "2   RandomForestClassifier         2  0.912821\n",
       "3   RandomForestClassifier         3  0.905128\n",
       "4   RandomForestClassifier         4  0.917949\n",
       "5   RandomForestClassifier         5  0.912596\n",
       "6                LinearSVC         0  0.979487\n",
       "7                LinearSVC         1  0.987179\n",
       "8                LinearSVC         2  0.994872\n",
       "9                LinearSVC         3  0.982051\n",
       "10               LinearSVC         4  0.989744\n",
       "11               LinearSVC         5  0.989717\n",
       "12           MultinomialNB         0  0.905128\n",
       "13           MultinomialNB         1  0.905128\n",
       "14           MultinomialNB         2  0.902564\n",
       "15           MultinomialNB         3  0.907692\n",
       "16           MultinomialNB         4  0.907692\n",
       "17           MultinomialNB         5  0.910026\n",
       "18      LogisticRegression         0  0.946154\n",
       "19      LogisticRegression         1  0.956410\n",
       "20      LogisticRegression         2  0.976923\n",
       "21      LogisticRegression         3  0.953846\n",
       "22      LogisticRegression         4  0.964103\n",
       "23      LogisticRegression         5  0.948586"
      ]
     },
     "execution_count": 28,
     "metadata": {},
     "output_type": "execute_result"
    }
   ],
   "source": [
    "cv_df"
   ]
  },
  {
   "cell_type": "markdown",
   "metadata": {},
   "source": [
    "## 4.4 Comparison of models performance"
   ]
  },
  {
   "cell_type": "code",
   "execution_count": 40,
   "metadata": {},
   "outputs": [
    {
     "data": {
      "text/html": [
       "<div>\n",
       "<style scoped>\n",
       "    .dataframe tbody tr th:only-of-type {\n",
       "        vertical-align: middle;\n",
       "    }\n",
       "\n",
       "    .dataframe tbody tr th {\n",
       "        vertical-align: top;\n",
       "    }\n",
       "\n",
       "    .dataframe thead th {\n",
       "        text-align: right;\n",
       "    }\n",
       "</style>\n",
       "<table border=\"1\" class=\"dataframe\">\n",
       "  <thead>\n",
       "    <tr style=\"text-align: right;\">\n",
       "      <th></th>\n",
       "      <th>Mean Accuracy</th>\n",
       "      <th>Standard deviation</th>\n",
       "    </tr>\n",
       "    <tr>\n",
       "      <th>model_name</th>\n",
       "      <th></th>\n",
       "      <th></th>\n",
       "    </tr>\n",
       "  </thead>\n",
       "  <tbody>\n",
       "    <tr>\n",
       "      <th>LinearSVC</th>\n",
       "      <td>0.987175</td>\n",
       "      <td>0.005615</td>\n",
       "    </tr>\n",
       "    <tr>\n",
       "      <th>LogisticRegression</th>\n",
       "      <td>0.957670</td>\n",
       "      <td>0.011344</td>\n",
       "    </tr>\n",
       "    <tr>\n",
       "      <th>RandomForestClassifier</th>\n",
       "      <td>0.913638</td>\n",
       "      <td>0.004783</td>\n",
       "    </tr>\n",
       "    <tr>\n",
       "      <th>MultinomialNB</th>\n",
       "      <td>0.906372</td>\n",
       "      <td>0.002624</td>\n",
       "    </tr>\n",
       "  </tbody>\n",
       "</table>\n",
       "</div>"
      ],
      "text/plain": [
       "                        Mean Accuracy  Standard deviation\n",
       "model_name                                               \n",
       "LinearSVC                    0.987175            0.005615\n",
       "LogisticRegression           0.957670            0.011344\n",
       "RandomForestClassifier       0.913638            0.004783\n",
       "MultinomialNB                0.906372            0.002624"
      ]
     },
     "execution_count": 40,
     "metadata": {},
     "output_type": "execute_result"
    }
   ],
   "source": [
    "mean_accuracy = cv_df.groupby('model_name').accuracy.mean()\n",
    "std_accuracy = cv_df.groupby('model_name').accuracy.std()\n",
    "\n",
    "acc = pd.concat([mean_accuracy, std_accuracy], axis= 1, ignore_index=True)\n",
    "acc.columns = ['Mean Accuracy', 'Standard deviation']\n",
    "\n",
    "# sort by accuracy\n",
    "acc.sort_values(by=['Mean Accuracy'], axis=0 ,ascending=False, inplace=True)\n",
    "acc"
   ]
  },
  {
   "cell_type": "markdown",
   "metadata": {},
   "source": [
    "# 5. Model Evaluation¶"
   ]
  },
  {
   "cell_type": "code",
   "execution_count": 15,
   "metadata": {},
   "outputs": [],
   "source": [
    "X_train, X_test, y_train, y_test,indices_train,indices_test = train_test_split(features,\n",
    "                                                                               labels,\n",
    "                                                                               file.index,\n",
    "                                                                               test_size=0.3,\n",
    "                                                                               random_state=1)"
   ]
  },
  {
   "cell_type": "markdown",
   "metadata": {},
   "source": [
    "## 5.1 Hyper-turning (determining C value)"
   ]
  },
  {
   "cell_type": "code",
   "execution_count": 17,
   "metadata": {
    "collapsed": true
   },
   "outputs": [
    {
     "name": "stderr",
     "output_type": "stream",
     "text": [
      "/opt/anaconda3/lib/python3.7/site-packages/sklearn/svm/_base.py:947: ConvergenceWarning: Liblinear failed to converge, increase the number of iterations.\n",
      "  \"the number of iterations.\", ConvergenceWarning)\n",
      "/opt/anaconda3/lib/python3.7/site-packages/sklearn/svm/_base.py:947: ConvergenceWarning: Liblinear failed to converge, increase the number of iterations.\n",
      "  \"the number of iterations.\", ConvergenceWarning)\n",
      "/opt/anaconda3/lib/python3.7/site-packages/sklearn/svm/_base.py:947: ConvergenceWarning: Liblinear failed to converge, increase the number of iterations.\n",
      "  \"the number of iterations.\", ConvergenceWarning)\n",
      "/opt/anaconda3/lib/python3.7/site-packages/sklearn/svm/_base.py:947: ConvergenceWarning: Liblinear failed to converge, increase the number of iterations.\n",
      "  \"the number of iterations.\", ConvergenceWarning)\n",
      "/opt/anaconda3/lib/python3.7/site-packages/sklearn/svm/_base.py:947: ConvergenceWarning: Liblinear failed to converge, increase the number of iterations.\n",
      "  \"the number of iterations.\", ConvergenceWarning)\n"
     ]
    },
    {
     "name": "stdout",
     "output_type": "stream",
     "text": [
      "Tuned hyperparameter parameters: {'C': 10}\n",
      "Best cross-validation score: 0.9877769075855897\n"
     ]
    }
   ],
   "source": [
    "# determine the best C value\n",
    "from sklearn.model_selection import GridSearchCV\n",
    "\n",
    "model_turn = LinearSVC()\n",
    "grid = {'C': [0.001, 0.01, 0.1, 0.5, 1, 10, 100]}\n",
    "model_turn_cv = GridSearchCV(model_turn, grid, cv=5)\n",
    "model_turn_cv.fit(X_train, y_train)\n",
    "\n",
    "# Print hyperparameter\n",
    "print(\"Tuned hyperparameter parameters: {}\".format(model_turn_cv.best_params_)) \n",
    "print(\"Best cross-validation score: {}\".format(model_turn_cv.best_score_))"
   ]
  },
  {
   "cell_type": "code",
   "execution_count": 18,
   "metadata": {
    "collapsed": true
   },
   "outputs": [
    {
     "name": "stdout",
     "output_type": "stream",
     "text": [
      "LinearSVC(C=1.0, class_weight=None, dual=True, fit_intercept=True,\n",
      "          intercept_scaling=1, loss='squared_hinge', max_iter=1000,\n",
      "          multi_class='ovr', penalty='l2', random_state=None, tol=0.0001,\n",
      "          verbose=0)\n"
     ]
    }
   ],
   "source": [
    "print(model_turn)"
   ]
  },
  {
   "cell_type": "markdown",
   "metadata": {},
   "source": [
    "## 5.2 Cross-validation of LinearSVC"
   ]
  },
  {
   "cell_type": "code",
   "execution_count": 45,
   "metadata": {},
   "outputs": [
    {
     "name": "stdout",
     "output_type": "stream",
     "text": [
      "LinearSVC Average accuracy:  0.9535612748765525\n",
      "LinearSVC Standard Deviation:  0.007904202791465564\n"
     ]
    }
   ],
   "source": [
    "# Cross validation\n",
    "\n",
    "model_1 = LinearSVC(C = 10)\n",
    "accuracies_model_1 = cross_val_score(model, X=X_train, y=y_train, scoring='accuracy', cv=10)\n",
    "print(\"LinearSVC Average accuracy: \", accuracies_model_1.mean())\n",
    "print(\"LinearSVC Standard Deviation: \", accuracies_model_1.std())"
   ]
  },
  {
   "cell_type": "markdown",
   "metadata": {},
   "source": [
    "## 5.3 Using the best parameters to build"
   ]
  },
  {
   "cell_type": "code",
   "execution_count": 48,
   "metadata": {},
   "outputs": [
    {
     "name": "stdout",
     "output_type": "stream",
     "text": [
      "Optimized LinearSVC Training accuracy: 1.0\n",
      "Optimized LinearSVC Testing accuracy: 0.98148\n"
     ]
    }
   ],
   "source": [
    "from sklearn.metrics import accuracy_score\n",
    "model = LinearSVC(C = 10)\n",
    "model.fit(X_train, y_train)\n",
    "y_train_predict = model.predict(X_train)\n",
    "y_test_predict = model.predict(X_test)\n",
    "   \n",
    "accuracy1 = round(accuracy_score(y_train, y_train_predict), 5)\n",
    "accuracy2 = round(accuracy_score(y_test, y_test_predict), 5)\n",
    "print ('Optimized LinearSVC Training accuracy:', accuracy1)\n",
    "print ('Optimized LinearSVC Testing accuracy:', accuracy2)\n"
   ]
  },
  {
   "cell_type": "markdown",
   "metadata": {},
   "source": [
    "## 5.4 Save the model"
   ]
  },
  {
   "cell_type": "code",
   "execution_count": 52,
   "metadata": {},
   "outputs": [],
   "source": [
    "import pickle\n",
    "with open('model.pickle', 'wb') as file:\n",
    "    pickle.dump(model, file)"
   ]
  },
  {
   "cell_type": "markdown",
   "metadata": {},
   "source": [
    "## 5.5 Precision, Recall, F1-score"
   ]
  },
  {
   "cell_type": "code",
   "execution_count": 49,
   "metadata": {},
   "outputs": [
    {
     "name": "stdout",
     "output_type": "stream",
     "text": [
      "\t\t\t\tCLASSIFICATIION METRICS\n",
      "\n",
      "                  precision    recall  f1-score   support\n",
      "\n",
      "        Payslips       1.00      1.00      1.00         6\n",
      "      RandomPDFs       0.99      1.00      0.99       406\n",
      "    Endorsements       1.00      0.50      0.67        18\n",
      "       Addendums       0.92      0.90      0.91        40\n",
      "FinancialReports       0.96      1.00      0.98        23\n",
      "             NDA       0.99      1.00      0.99       209\n",
      "\n",
      "        accuracy                           0.98       702\n",
      "       macro avg       0.98      0.90      0.92       702\n",
      "    weighted avg       0.98      0.98      0.98       702\n",
      "\n"
     ]
    }
   ],
   "source": [
    "print('\\t\\t\\t\\tCLASSIFICATIION METRICS\\n')\n",
    "print(metrics.classification_report(y_test, y_test_predict, \n",
    "                                    target_names= file['label'].unique()))"
   ]
  },
  {
   "cell_type": "markdown",
   "metadata": {},
   "source": [
    "## 5.6 Confusion Matrix"
   ]
  },
  {
   "cell_type": "code",
   "execution_count": 50,
   "metadata": {},
   "outputs": [
    {
     "name": "stdout",
     "output_type": "stream",
     "text": [
      "Confusion metrics :\n",
      " [[  6   0   0   0   0   0]\n",
      " [  0 406   0   0   0   0]\n",
      " [  0   2   9   3   1   3]\n",
      " [  0   4   0  36   0   0]\n",
      " [  0   0   0   0  23   0]\n",
      " [  0   0   0   0   0 209]]\n"
     ]
    },
    {
     "data": {
      "text/plain": [
       "Text(0.5, 1, 'Confusion Matrix - LinearSVC\\n')"
      ]
     },
     "execution_count": 50,
     "metadata": {},
     "output_type": "execute_result"
    },
    {
     "data": {
      "image/png": "[encoded data removed]",
      "text/plain": [
       "<Figure size 576x576 with 2 Axes>"
      ]
     },
     "metadata": {
      "needs_background": "light"
     },
     "output_type": "display_data"
    }
   ],
   "source": [
    "conf_mat = confusion_matrix(y_test, y_test_predict)\n",
    "print('Confusion metrics :\\n', conf_mat)\n",
    "\n",
    "fig, ax = plt.subplots(figsize=(8,8))\n",
    "sns.heatmap(conf_mat, annot=True, cmap=\"Blues\", fmt='d',\n",
    "            xticklabels=label_to_id_df.label.values, \n",
    "            yticklabels=label_to_id_df.label.values)\n",
    "plt.ylabel('Actual')\n",
    "plt.xlabel('Predicted')\n",
    "plt.title(\"Confusion Matrix - LinearSVC\\n\", size=16)"
   ]
  },
  {
   "cell_type": "code",
   "execution_count": null,
   "metadata": {},
   "outputs": [],
   "source": []
  }
 ],
 "metadata": {
  "kernelspec": {
   "display_name": "Python 3",
   "language": "python",
   "name": "python3"
  },
  "language_info": {
   "codemirror_mode": {
    "name": "ipython",
    "version": 3
   },
   "file_extension": ".py",
   "mimetype": "text/x-python",
   "name": "python",
   "nbconvert_exporter": "python",
   "pygments_lexer": "ipython3",
   "version": "3.7.6"
  }
 },
 "nbformat": 4,
 "nbformat_minor": 4
}
